{
 "cells": [
  {
   "cell_type": "code",
   "execution_count": 1,
   "metadata": {},
   "outputs": [],
   "source": [
    "# loading some libraries \n",
    "\n",
    "import pandas as pd\n",
    "import numpy as np \n",
    "import random\n",
    "from random import shuffle\n",
    "from numpy import newaxis\n",
    "import itertools\n",
    "from matplotlib import pyplot\n",
    "\n",
    "import tensorflow as tf\n",
    "from tensorflow.keras.models import Sequential\n",
    "from tensorflow.keras.layers import Dense, RepeatVector, TimeDistributed, Input\n",
    "from tensorflow.keras.layers import LSTM, Bidirectional, Dropout\n",
    "from sklearn.model_selection import train_test_split\n",
    "from sklearn import metrics"
   ]
  },
  {
   "cell_type": "code",
   "execution_count": 2,
   "metadata": {},
   "outputs": [],
   "source": [
    "# mapping dictionary\n",
    "\n",
    "aminoacidos=pd.read_html('https://es.wikipedia.org/wiki/Nomenclatura_de_amino%C3%A1cidos', header=0)[0]\n",
    "\n",
    "mapping = pd.get_dummies(aminoacidos['Código de una letra'])\n",
    "mapping = pd.Series(list(mapping.values),index=mapping.columns).to_dict()"
   ]
  },
  {
   "cell_type": "code",
   "execution_count": 3,
   "metadata": {},
   "outputs": [],
   "source": [
    "# lets create a dataset of sequences randomly, and a test of contact also randomly\n",
    "# for each sequence of lenght N there will an input of dim 1, and N outputs of dimension 4\n",
    "\n",
    "sequence = list('TSSKFNECQLNNLNALEPDHRVESEGGLIETWNSQHPELQCAGVTVSKRTLNRNGLHLPSYSPYPQMIIVVQGKGAIGFAFPGCPETFEKPQQQSSRRGSRSQQQLQDSHQKIRHFNEGDVLVIPPGVPYWTYNTGDEPVVAISLLDTSNFNNQLDQNPRVFYLAGNPDIEHPETMQQQQQQKSHGGRKQGQHQQQEEEGGSVLSGFSKHFLAQSFNTNEDTAEKLRSPDDERKQIVTVEGGLSVISPKWQEQEDEDEDEDEEYEQTPSYPPRRPSHGKHEDDEDEDEEEDQPRPDHPPQRPSRPEQQEPRGRGCQTRNGVEENICTMKLHENIARPSRADFYNPKAGRISTLNSLTLPALRQFGLSAQYVVLYRNGIYSPHWNLNANSVIYVTRGKGRVRVVNCQGNAVFDGELRRGQLLVVPQNFVVAEQGGEQGLEYVVFKTHHNAVSSYIKDVFRAIPSEVLSNSYNLGQSQVRQLKYQGNSGPLVNP')\n",
    "\n",
    "contact_1 = sequence[:] # Copy words\n",
    "random.shuffle(contact_1) # Shuffle newwords\n",
    "\n",
    "contact_2 = sequence[:] \n",
    "random.shuffle(contact_2) \n",
    "\n",
    "contact_3 = sequence[:] \n",
    "random.shuffle(contact_3)\n",
    "\n",
    "contact_4 = sequence[:] \n",
    "random.shuffle(contact_4)"
   ]
  },
  {
   "cell_type": "code",
   "execution_count": 4,
   "metadata": {},
   "outputs": [
    {
     "data": {
      "text/html": [
       "<div>\n",
       "<style scoped>\n",
       "    .dataframe tbody tr th:only-of-type {\n",
       "        vertical-align: middle;\n",
       "    }\n",
       "\n",
       "    .dataframe tbody tr th {\n",
       "        vertical-align: top;\n",
       "    }\n",
       "\n",
       "    .dataframe thead th {\n",
       "        text-align: right;\n",
       "    }\n",
       "</style>\n",
       "<table border=\"1\" class=\"dataframe\">\n",
       "  <thead>\n",
       "    <tr style=\"text-align: right;\">\n",
       "      <th></th>\n",
       "      <th>sequence</th>\n",
       "      <th>contact</th>\n",
       "    </tr>\n",
       "  </thead>\n",
       "  <tbody>\n",
       "    <tr>\n",
       "      <th>0</th>\n",
       "      <td>T</td>\n",
       "      <td>VGEK</td>\n",
       "    </tr>\n",
       "    <tr>\n",
       "      <th>1</th>\n",
       "      <td>S</td>\n",
       "      <td>QGQN</td>\n",
       "    </tr>\n",
       "    <tr>\n",
       "      <th>2</th>\n",
       "      <td>S</td>\n",
       "      <td>NKGQ</td>\n",
       "    </tr>\n",
       "    <tr>\n",
       "      <th>3</th>\n",
       "      <td>K</td>\n",
       "      <td>DHQP</td>\n",
       "    </tr>\n",
       "    <tr>\n",
       "      <th>4</th>\n",
       "      <td>F</td>\n",
       "      <td>YVSQ</td>\n",
       "    </tr>\n",
       "    <tr>\n",
       "      <th>...</th>\n",
       "      <td>...</td>\n",
       "      <td>...</td>\n",
       "    </tr>\n",
       "    <tr>\n",
       "      <th>487</th>\n",
       "      <td>P</td>\n",
       "      <td>PTVN</td>\n",
       "    </tr>\n",
       "    <tr>\n",
       "      <th>488</th>\n",
       "      <td>L</td>\n",
       "      <td>WENN</td>\n",
       "    </tr>\n",
       "    <tr>\n",
       "      <th>489</th>\n",
       "      <td>V</td>\n",
       "      <td>NLEP</td>\n",
       "    </tr>\n",
       "    <tr>\n",
       "      <th>490</th>\n",
       "      <td>N</td>\n",
       "      <td>EQWH</td>\n",
       "    </tr>\n",
       "    <tr>\n",
       "      <th>491</th>\n",
       "      <td>P</td>\n",
       "      <td>ECQL</td>\n",
       "    </tr>\n",
       "  </tbody>\n",
       "</table>\n",
       "<p>492 rows × 2 columns</p>\n",
       "</div>"
      ],
      "text/plain": [
       "    sequence contact\n",
       "0          T    VGEK\n",
       "1          S    QGQN\n",
       "2          S    NKGQ\n",
       "3          K    DHQP\n",
       "4          F    YVSQ\n",
       "..       ...     ...\n",
       "487        P    PTVN\n",
       "488        L    WENN\n",
       "489        V    NLEP\n",
       "490        N    EQWH\n",
       "491        P    ECQL\n",
       "\n",
       "[492 rows x 2 columns]"
      ]
     },
     "execution_count": 4,
     "metadata": {},
     "output_type": "execute_result"
    }
   ],
   "source": [
    "data = pd.DataFrame({'sequence': sequence, \n",
    "                    'contact1': contact_1,\n",
    "                    'contact2': contact_2,\n",
    "                    'contact3': contact_3,\n",
    "                    'contact4': contact_4})\n",
    "\n",
    "# I need 2 columns, one for the aminoacid of the sequence and the other for the contacts\n",
    "data['contact'] = data['contact1'].map(str) + data['contact2'].map(str) + data['contact3'].map(str) + data['contact4'].map(str)\n",
    "data = data[['sequence','contact']]\n",
    "\n",
    "data"
   ]
  },
  {
   "cell_type": "markdown",
   "metadata": {},
   "source": [
    "# One-to-many (1-4)\n",
    "\n",
    "## Processing data for model "
   ]
  },
  {
   "cell_type": "code",
   "execution_count": 5,
   "metadata": {},
   "outputs": [],
   "source": [
    "# I need to manipulate this dataframe to convert to one-hot encoding \n",
    "data['convertions'] = data['contact'].map(list) "
   ]
  },
  {
   "cell_type": "code",
   "execution_count": 4,
   "metadata": {},
   "outputs": [],
   "source": [
    "# funciton to transform to one-hot \n",
    "def one_hot_transform(secuencia):\n",
    "    \n",
    "    keys, inv = np.unique(secuencia, return_inverse=True)\n",
    "    vals = np.array([mapping[key] for key in keys])\n",
    "    sequence_hot = vals[inv]\n",
    "    \n",
    "    return sequence_hot"
   ]
  },
  {
   "cell_type": "code",
   "execution_count": 7,
   "metadata": {},
   "outputs": [],
   "source": [
    "data['hot_sequence'] = data['sequence'].map(one_hot_transform)"
   ]
  },
  {
   "cell_type": "code",
   "execution_count": 8,
   "metadata": {},
   "outputs": [],
   "source": [
    "# Now lets transform the 'convertions' column to one-hot\n",
    "hot_contact = []\n",
    "for i in range(len(data)): \n",
    "    hot_contact.append(one_hot_transform(data['convertions'][:][i]))\n",
    "\n",
    "data['hot_convertion'] = hot_contact"
   ]
  },
  {
   "cell_type": "markdown",
   "metadata": {},
   "source": [
    "## Model "
   ]
  },
  {
   "cell_type": "code",
   "execution_count": 9,
   "metadata": {},
   "outputs": [],
   "source": [
    "X = one_hot_transform(sequence) # we have to reshape this values \n",
    "X = X[:,newaxis,:]\n",
    "Y = np.asarray(hot_contact, dtype=np.float32)"
   ]
  },
  {
   "cell_type": "code",
   "execution_count": 10,
   "metadata": {},
   "outputs": [
    {
     "name": "stdout",
     "output_type": "stream",
     "text": [
      "(492, 1, 20)\n",
      "(492, 4, 20)\n"
     ]
    }
   ],
   "source": [
    "print(X.shape)\n",
    "print(Y.shape)"
   ]
  },
  {
   "cell_type": "markdown",
   "metadata": {},
   "source": [
    "### Version 1"
   ]
  },
  {
   "cell_type": "code",
   "execution_count": 11,
   "metadata": {},
   "outputs": [],
   "source": [
    "# LSTM, there's a BiLSTM too  \n",
    "# ver este link: \n",
    "# https://stackoverflow.com/questions/43034960/many-to-one-and-many-to-many-lstm-examples-in-keras\n",
    "# y este: \n",
    "# https://stackoverflow.com/questions/52138290/how-can-we-define-one-to-one-one-to-many-many-to-one-and-many-to-many-lstm-ne\n",
    "\n",
    "hidden_nodes_l1 = 10\n",
    "hidden_nodes_l2 = 5\n",
    "\n",
    "model = Sequential()\n",
    "# batch = None, timesteps = 1, features = 20\n",
    "model.add(LSTM(hidden_nodes_l1, batch_input_shape=(None, 1, 20)))  \n",
    "model.add(RepeatVector(4))\n",
    "model.add(LSTM(hidden_nodes_l2, return_sequences=True)) \n",
    "#model.add(Bidirectional(LSTM(hidden_nodes_l2, return_sequences=True))) \n",
    "model.add(TimeDistributed(Dense(20, activation='softmax')))\n",
    "model.compile(loss=tf.keras.losses.CategoricalCrossentropy(from_logits=False), optimizer='adam', metrics=['accuracy'])"
   ]
  },
  {
   "cell_type": "code",
   "execution_count": 12,
   "metadata": {},
   "outputs": [
    {
     "name": "stdout",
     "output_type": "stream",
     "text": [
      "(None, 1, 20)\n",
      "(None, 4, 20)\n",
      "Model: \"sequential\"\n",
      "_________________________________________________________________\n",
      "Layer (type)                 Output Shape              Param #   \n",
      "=================================================================\n",
      "lstm (LSTM)                  (None, 10)                1240      \n",
      "_________________________________________________________________\n",
      "repeat_vector (RepeatVector) (None, 4, 10)             0         \n",
      "_________________________________________________________________\n",
      "lstm_1 (LSTM)                (None, 4, 5)              320       \n",
      "_________________________________________________________________\n",
      "time_distributed (TimeDistri (None, 4, 20)             120       \n",
      "=================================================================\n",
      "Total params: 1,680\n",
      "Trainable params: 1,680\n",
      "Non-trainable params: 0\n",
      "_________________________________________________________________\n"
     ]
    }
   ],
   "source": [
    "print(model.input_shape)\n",
    "print(model.output_shape)\n",
    "model.summary()"
   ]
  },
  {
   "cell_type": "code",
   "execution_count": 13,
   "metadata": {},
   "outputs": [
    {
     "name": "stdout",
     "output_type": "stream",
     "text": [
      "Epoch 1/100\n",
      "40/40 [==============================] - 3s 5ms/step - loss: 2.9915 - accuracy: 0.0978\n",
      "Epoch 2/100\n",
      "40/40 [==============================] - 0s 6ms/step - loss: 2.9760 - accuracy: 0.0961\n",
      "Epoch 3/100\n",
      "40/40 [==============================] - 0s 5ms/step - loss: 2.9585 - accuracy: 0.1018\n",
      "Epoch 4/100\n",
      "40/40 [==============================] - 0s 5ms/step - loss: 2.9400 - accuracy: 0.0929\n",
      "Epoch 5/100\n",
      "40/40 [==============================] - 0s 5ms/step - loss: 2.9122 - accuracy: 0.1046\n",
      "Epoch 6/100\n",
      "40/40 [==============================] - 0s 5ms/step - loss: 2.8832 - accuracy: 0.1046\n",
      "Epoch 7/100\n",
      "40/40 [==============================] - 0s 5ms/step - loss: 2.8839 - accuracy: 0.1099\n",
      "Epoch 8/100\n",
      "40/40 [==============================] - 0s 5ms/step - loss: 2.8730 - accuracy: 0.0911\n",
      "Epoch 9/100\n",
      "40/40 [==============================] - 0s 5ms/step - loss: 2.8655 - accuracy: 0.0963\n",
      "Epoch 10/100\n",
      "40/40 [==============================] - 0s 6ms/step - loss: 2.8651 - accuracy: 0.0951\n",
      "Epoch 11/100\n",
      "40/40 [==============================] - 0s 5ms/step - loss: 2.8537 - accuracy: 0.0874\n",
      "Epoch 12/100\n",
      "40/40 [==============================] - 0s 6ms/step - loss: 2.8488 - accuracy: 0.0778\n",
      "Epoch 13/100\n",
      "40/40 [==============================] - 0s 5ms/step - loss: 2.8632 - accuracy: 0.0821\n",
      "Epoch 14/100\n",
      "40/40 [==============================] - 0s 5ms/step - loss: 2.8513 - accuracy: 0.0919\n",
      "Epoch 15/100\n",
      "40/40 [==============================] - 0s 5ms/step - loss: 2.8595 - accuracy: 0.0926\n",
      "Epoch 16/100\n",
      "40/40 [==============================] - 0s 5ms/step - loss: 2.8423 - accuracy: 0.0890\n",
      "Epoch 17/100\n",
      "40/40 [==============================] - 0s 5ms/step - loss: 2.8338 - accuracy: 0.1057\n",
      "Epoch 18/100\n",
      "40/40 [==============================] - 0s 5ms/step - loss: 2.8479 - accuracy: 0.1017\n",
      "Epoch 19/100\n",
      "40/40 [==============================] - 0s 5ms/step - loss: 2.8612 - accuracy: 0.0877\n",
      "Epoch 20/100\n",
      "40/40 [==============================] - 0s 5ms/step - loss: 2.8292 - accuracy: 0.0964\n",
      "Epoch 21/100\n",
      "40/40 [==============================] - 0s 5ms/step - loss: 2.8452 - accuracy: 0.0857\n",
      "Epoch 22/100\n",
      "40/40 [==============================] - 0s 5ms/step - loss: 2.8498 - accuracy: 0.0893\n",
      "Epoch 23/100\n",
      "40/40 [==============================] - 0s 5ms/step - loss: 2.8468 - accuracy: 0.0908\n",
      "Epoch 24/100\n",
      "40/40 [==============================] - 0s 5ms/step - loss: 2.8520 - accuracy: 0.0904\n",
      "Epoch 25/100\n",
      "40/40 [==============================] - 0s 5ms/step - loss: 2.8455 - accuracy: 0.0846\n",
      "Epoch 26/100\n",
      "40/40 [==============================] - 0s 5ms/step - loss: 2.8257 - accuracy: 0.0839\n",
      "Epoch 27/100\n",
      "40/40 [==============================] - 0s 5ms/step - loss: 2.8697 - accuracy: 0.0886\n",
      "Epoch 28/100\n",
      "40/40 [==============================] - 0s 5ms/step - loss: 2.8478 - accuracy: 0.0917\n",
      "Epoch 29/100\n",
      "40/40 [==============================] - 0s 5ms/step - loss: 2.8407 - accuracy: 0.0980\n",
      "Epoch 30/100\n",
      "40/40 [==============================] - 0s 5ms/step - loss: 2.8580 - accuracy: 0.0915\n",
      "Epoch 31/100\n",
      "40/40 [==============================] - 0s 5ms/step - loss: 2.8436 - accuracy: 0.0958\n",
      "Epoch 32/100\n",
      "40/40 [==============================] - 0s 5ms/step - loss: 2.8310 - accuracy: 0.0910\n",
      "Epoch 33/100\n",
      "40/40 [==============================] - 0s 5ms/step - loss: 2.8400 - accuracy: 0.0887\n",
      "Epoch 34/100\n",
      "40/40 [==============================] - 0s 5ms/step - loss: 2.8449 - accuracy: 0.0952\n",
      "Epoch 35/100\n",
      "40/40 [==============================] - 0s 5ms/step - loss: 2.8481 - accuracy: 0.0850\n",
      "Epoch 36/100\n",
      "40/40 [==============================] - 0s 5ms/step - loss: 2.8289 - accuracy: 0.1050\n",
      "Epoch 37/100\n",
      "40/40 [==============================] - 0s 5ms/step - loss: 2.8223 - accuracy: 0.0990\n",
      "Epoch 38/100\n",
      "40/40 [==============================] - 0s 5ms/step - loss: 2.8326 - accuracy: 0.1035\n",
      "Epoch 39/100\n",
      "40/40 [==============================] - 0s 5ms/step - loss: 2.8203 - accuracy: 0.0911\n",
      "Epoch 40/100\n",
      "40/40 [==============================] - 0s 5ms/step - loss: 2.8447 - accuracy: 0.1025\n",
      "Epoch 41/100\n",
      "40/40 [==============================] - 0s 5ms/step - loss: 2.8454 - accuracy: 0.1044\n",
      "Epoch 42/100\n",
      "40/40 [==============================] - 0s 5ms/step - loss: 2.8374 - accuracy: 0.1059\n",
      "Epoch 43/100\n",
      "40/40 [==============================] - 0s 5ms/step - loss: 2.8105 - accuracy: 0.1049\n",
      "Epoch 44/100\n",
      "40/40 [==============================] - 0s 5ms/step - loss: 2.8450 - accuracy: 0.0984\n",
      "Epoch 45/100\n",
      "40/40 [==============================] - 0s 5ms/step - loss: 2.8452 - accuracy: 0.1040\n",
      "Epoch 46/100\n",
      "40/40 [==============================] - 0s 5ms/step - loss: 2.8196 - accuracy: 0.1077\n",
      "Epoch 47/100\n",
      "40/40 [==============================] - 0s 5ms/step - loss: 2.8213 - accuracy: 0.1063\n",
      "Epoch 48/100\n",
      "40/40 [==============================] - 0s 5ms/step - loss: 2.8194 - accuracy: 0.1160\n",
      "Epoch 49/100\n",
      "40/40 [==============================] - 0s 5ms/step - loss: 2.8299 - accuracy: 0.1086\n",
      "Epoch 50/100\n",
      "40/40 [==============================] - 0s 5ms/step - loss: 2.8152 - accuracy: 0.1004\n",
      "Epoch 51/100\n",
      "40/40 [==============================] - 0s 5ms/step - loss: 2.8180 - accuracy: 0.1169\n",
      "Epoch 52/100\n",
      "40/40 [==============================] - 0s 5ms/step - loss: 2.8124 - accuracy: 0.1140\n",
      "Epoch 53/100\n",
      "40/40 [==============================] - 0s 5ms/step - loss: 2.8405 - accuracy: 0.1221\n",
      "Epoch 54/100\n",
      "40/40 [==============================] - 0s 5ms/step - loss: 2.8152 - accuracy: 0.1128\n",
      "Epoch 55/100\n",
      "40/40 [==============================] - 0s 5ms/step - loss: 2.8242 - accuracy: 0.1098\n",
      "Epoch 56/100\n",
      "40/40 [==============================] - 0s 5ms/step - loss: 2.8303 - accuracy: 0.0976\n",
      "Epoch 57/100\n",
      "40/40 [==============================] - 0s 5ms/step - loss: 2.8487 - accuracy: 0.1051\n",
      "Epoch 58/100\n",
      "40/40 [==============================] - 0s 6ms/step - loss: 2.7981 - accuracy: 0.1159\n",
      "Epoch 59/100\n",
      "40/40 [==============================] - 0s 6ms/step - loss: 2.8284 - accuracy: 0.1116\n",
      "Epoch 60/100\n",
      "40/40 [==============================] - 0s 5ms/step - loss: 2.8324 - accuracy: 0.0945\n",
      "Epoch 61/100\n",
      "40/40 [==============================] - 0s 5ms/step - loss: 2.8328 - accuracy: 0.0964\n",
      "Epoch 62/100\n",
      "40/40 [==============================] - 0s 5ms/step - loss: 2.8127 - accuracy: 0.1169\n",
      "Epoch 63/100\n",
      "40/40 [==============================] - 0s 6ms/step - loss: 2.8246 - accuracy: 0.1094\n",
      "Epoch 64/100\n",
      "40/40 [==============================] - 0s 5ms/step - loss: 2.8135 - accuracy: 0.1072\n",
      "Epoch 65/100\n",
      "40/40 [==============================] - 0s 6ms/step - loss: 2.8102 - accuracy: 0.1075\n",
      "Epoch 66/100\n",
      "40/40 [==============================] - 0s 5ms/step - loss: 2.8055 - accuracy: 0.1091\n",
      "Epoch 67/100\n",
      "40/40 [==============================] - 0s 5ms/step - loss: 2.8175 - accuracy: 0.1101\n",
      "Epoch 68/100\n",
      "40/40 [==============================] - 0s 5ms/step - loss: 2.8169 - accuracy: 0.1153\n",
      "Epoch 69/100\n",
      "40/40 [==============================] - 0s 5ms/step - loss: 2.8014 - accuracy: 0.1025\n",
      "Epoch 70/100\n",
      "40/40 [==============================] - 0s 5ms/step - loss: 2.8290 - accuracy: 0.1078\n",
      "Epoch 71/100\n",
      "40/40 [==============================] - 0s 5ms/step - loss: 2.8197 - accuracy: 0.1044\n",
      "Epoch 72/100\n",
      "40/40 [==============================] - 0s 5ms/step - loss: 2.8076 - accuracy: 0.1258\n",
      "Epoch 73/100\n",
      "40/40 [==============================] - 0s 5ms/step - loss: 2.8274 - accuracy: 0.1124\n",
      "Epoch 74/100\n",
      "40/40 [==============================] - 0s 5ms/step - loss: 2.8259 - accuracy: 0.0984\n",
      "Epoch 75/100\n",
      "40/40 [==============================] - 0s 5ms/step - loss: 2.8072 - accuracy: 0.1063\n",
      "Epoch 76/100\n",
      "40/40 [==============================] - 0s 5ms/step - loss: 2.8080 - accuracy: 0.1016\n",
      "Epoch 77/100\n",
      "40/40 [==============================] - 0s 5ms/step - loss: 2.8295 - accuracy: 0.1061\n",
      "Epoch 78/100\n",
      "40/40 [==============================] - 0s 5ms/step - loss: 2.8177 - accuracy: 0.1117\n",
      "Epoch 79/100\n",
      "40/40 [==============================] - 0s 5ms/step - loss: 2.8072 - accuracy: 0.1140\n",
      "Epoch 80/100\n",
      "40/40 [==============================] - 0s 5ms/step - loss: 2.8113 - accuracy: 0.1073\n",
      "Epoch 81/100\n",
      "40/40 [==============================] - 0s 5ms/step - loss: 2.8077 - accuracy: 0.1176\n",
      "Epoch 82/100\n",
      "40/40 [==============================] - 0s 5ms/step - loss: 2.7854 - accuracy: 0.1253\n",
      "Epoch 83/100\n"
     ]
    },
    {
     "name": "stdout",
     "output_type": "stream",
     "text": [
      "40/40 [==============================] - 0s 5ms/step - loss: 2.8005 - accuracy: 0.1150\n",
      "Epoch 84/100\n",
      "40/40 [==============================] - 0s 5ms/step - loss: 2.8265 - accuracy: 0.0968\n",
      "Epoch 85/100\n",
      "40/40 [==============================] - 0s 5ms/step - loss: 2.8174 - accuracy: 0.1138\n",
      "Epoch 86/100\n",
      "40/40 [==============================] - 0s 5ms/step - loss: 2.8155 - accuracy: 0.1047\n",
      "Epoch 87/100\n",
      "40/40 [==============================] - 0s 5ms/step - loss: 2.8280 - accuracy: 0.0887\n",
      "Epoch 88/100\n",
      "40/40 [==============================] - 0s 5ms/step - loss: 2.8186 - accuracy: 0.1000\n",
      "Epoch 89/100\n",
      "40/40 [==============================] - 0s 5ms/step - loss: 2.8151 - accuracy: 0.1032\n",
      "Epoch 90/100\n",
      "40/40 [==============================] - 0s 5ms/step - loss: 2.8107 - accuracy: 0.1130\n",
      "Epoch 91/100\n",
      "40/40 [==============================] - 0s 5ms/step - loss: 2.8108 - accuracy: 0.1018\n",
      "Epoch 92/100\n",
      "40/40 [==============================] - 0s 5ms/step - loss: 2.8065 - accuracy: 0.0950\n",
      "Epoch 93/100\n",
      "40/40 [==============================] - 0s 6ms/step - loss: 2.8190 - accuracy: 0.1036\n",
      "Epoch 94/100\n",
      "40/40 [==============================] - 0s 5ms/step - loss: 2.8080 - accuracy: 0.1084\n",
      "Epoch 95/100\n",
      "40/40 [==============================] - 0s 5ms/step - loss: 2.7805 - accuracy: 0.1120\n",
      "Epoch 96/100\n",
      "40/40 [==============================] - 0s 5ms/step - loss: 2.8000 - accuracy: 0.1094\n",
      "Epoch 97/100\n",
      "40/40 [==============================] - 0s 5ms/step - loss: 2.8000 - accuracy: 0.1100\n",
      "Epoch 98/100\n",
      "40/40 [==============================] - 0s 5ms/step - loss: 2.8148 - accuracy: 0.0960\n",
      "Epoch 99/100\n",
      "40/40 [==============================] - 0s 5ms/step - loss: 2.8172 - accuracy: 0.1000\n",
      "Epoch 100/100\n",
      "40/40 [==============================] - 0s 5ms/step - loss: 2.8120 - accuracy: 0.1053\n"
     ]
    }
   ],
   "source": [
    "# Optimizing the network weights\n",
    "X_train, X_test, Y_train, Y_test = train_test_split(X, Y, test_size=0.2, random_state=0)\n",
    "\n",
    "history = model.fit(x=X_train, \n",
    "                    y=Y_train, \n",
    "                    batch_size=10, \n",
    "                    epochs=100)"
   ]
  },
  {
   "cell_type": "code",
   "execution_count": 14,
   "metadata": {},
   "outputs": [],
   "source": [
    "# model.save_weights('./elmo-model.h5')\n",
    "# I need to compare this predictions with real values (Y_test)\n",
    "predicts = model.predict(X_test) "
   ]
  },
  {
   "cell_type": "code",
   "execution_count": 20,
   "metadata": {},
   "outputs": [],
   "source": [
    "# convertion to one_hot format \n",
    "one_hot_predicts = [] \n",
    "\n",
    "for i in range(len(predicts)):\n",
    "    for j in range(len(predicts[0])): \n",
    "        \n",
    "        one_hot_predicts.append(np.asarray(tf.one_hot(tf.argmax(predicts[i][j]), depth = 20)).reshape(1,20))\n",
    "\n",
    "one_hot_predicts = [one_hot_predicts[i:i + 4] for i in range(0, len(one_hot_predicts), 4)]"
   ]
  },
  {
   "cell_type": "code",
   "execution_count": null,
   "metadata": {},
   "outputs": [],
   "source": [
    "# and if you want to retrieve the exact format: \n",
    "print(np.squeeze(np.asarray(one_hot_predicts), axis=(2,)).shape)\n",
    "print(type(np.squeeze(np.asarray(one_hot_predicts), axis=(2,))))\n",
    "np.squeeze(np.asarray(one_hot_predicts), axis=(2,))"
   ]
  },
  {
   "cell_type": "code",
   "execution_count": 15,
   "metadata": {},
   "outputs": [
    {
     "name": "stdout",
     "output_type": "stream",
     "text": [
      " Train accuracy: 0.11005088686943054\n",
      " Test accuracy: 0.09848485141992569\n"
     ]
    }
   ],
   "source": [
    "# evaluate the model\n",
    "train_acc = model.evaluate(X_train, Y_train, verbose=0)#batch_size=BATCH_SIZE,\n",
    "print(' Train accuracy:', train_acc[1])\n",
    "test_acc = model.evaluate(X_test, Y_test, verbose=0)\n",
    "print(' Test accuracy:', test_acc[1])"
   ]
  },
  {
   "cell_type": "code",
   "execution_count": 16,
   "metadata": {},
   "outputs": [
    {
     "data": {
      "image/png": "[encoded data removed]",
      "text/plain": [
       "<Figure size 432x288 with 2 Axes>"
      ]
     },
     "metadata": {
      "needs_background": "light"
     },
     "output_type": "display_data"
    }
   ],
   "source": [
    "# plot loss during training\n",
    "pyplot.subplot(211)\n",
    "pyplot.title('Loss')\n",
    "pyplot.plot(history.history['loss'], label='train')\n",
    "#pyplot.plot(history.history['val_loss'], label='test')\n",
    "pyplot.legend()\n",
    "# plot accuracy during training\n",
    "pyplot.subplot(212)\n",
    "pyplot.title('Accuracy')\n",
    "pyplot.plot(history.history['accuracy'], label='train')\n",
    "#pyplot.plot(history.history['val_accuracy'], label='test')\n",
    "pyplot.legend()\n",
    "pyplot.show()"
   ]
  },
  {
   "cell_type": "markdown",
   "metadata": {},
   "source": [
    "### Version 2"
   ]
  },
  {
   "cell_type": "code",
   "execution_count": 57,
   "metadata": {},
   "outputs": [],
   "source": [
    "# LSTM, version_2 \n",
    "# this version needs to repeat by 4 each sequence's aminoacid\n",
    "hidden_nodes_l1 = 10\n",
    "hidden_nodes_l2 = 5\n",
    "\n",
    "model = Sequential()\n",
    "\n",
    "model.add(Input(shape=(4,20)))\n",
    "model.add(LSTM(hidden_nodes_l2, return_sequences=True)) \n",
    "#model.add(Bidirectional(LSTM(hidden_nodes_l2, return_sequences=True))) \n",
    "model.add(Dense(20, activation='softmax'))\n",
    "#model.add(TimeDistributed(Dense(20, activation='softmax')))\n",
    "model.compile(loss=tf.keras.losses.CategoricalCrossentropy(from_logits=False), optimizer='adam', metrics=['accuracy'])"
   ]
  },
  {
   "cell_type": "code",
   "execution_count": 58,
   "metadata": {},
   "outputs": [
    {
     "name": "stdout",
     "output_type": "stream",
     "text": [
      "(None, 4, 20)\n",
      "(None, 4, 20)\n",
      "Model: \"sequential_10\"\n",
      "_________________________________________________________________\n",
      "Layer (type)                 Output Shape              Param #   \n",
      "=================================================================\n",
      "lstm_7 (LSTM)                (None, 4, 5)              520       \n",
      "_________________________________________________________________\n",
      "dense_6 (Dense)              (None, 4, 20)             120       \n",
      "=================================================================\n",
      "Total params: 640\n",
      "Trainable params: 640\n",
      "Non-trainable params: 0\n",
      "_________________________________________________________________\n"
     ]
    }
   ],
   "source": [
    "print(model.input_shape)\n",
    "print(model.output_shape)\n",
    "model.summary()"
   ]
  },
  {
   "cell_type": "code",
   "execution_count": 59,
   "metadata": {},
   "outputs": [],
   "source": [
    "repeated_sequence = []\n",
    "\n",
    "for i in range(len(X)):\n",
    "    \n",
    "    repeated_sequence.append(tf.keras.layers.RepeatVector(n=4)(X[i]))"
   ]
  },
  {
   "cell_type": "code",
   "execution_count": 60,
   "metadata": {},
   "outputs": [],
   "source": [
    "X_v2 = np.squeeze(np.asarray(repeated_sequence), axis=(1,))"
   ]
  },
  {
   "cell_type": "code",
   "execution_count": 61,
   "metadata": {},
   "outputs": [
    {
     "name": "stdout",
     "output_type": "stream",
     "text": [
      "Epoch 1/100\n",
      "40/40 [==============================] - 4s 5ms/step - loss: 3.0016 - accuracy: 0.0549\n",
      "Epoch 2/100\n",
      "40/40 [==============================] - 0s 4ms/step - loss: 2.9826 - accuracy: 0.0784\n",
      "Epoch 3/100\n",
      "40/40 [==============================] - 0s 4ms/step - loss: 2.9747 - accuracy: 0.0826\n",
      "Epoch 4/100\n",
      "40/40 [==============================] - 0s 4ms/step - loss: 2.9587 - accuracy: 0.0736\n",
      "Epoch 5/100\n",
      "40/40 [==============================] - 0s 4ms/step - loss: 2.9464 - accuracy: 0.0974\n",
      "Epoch 6/100\n",
      "40/40 [==============================] - 0s 4ms/step - loss: 2.9392 - accuracy: 0.0896\n",
      "Epoch 7/100\n",
      "40/40 [==============================] - 0s 4ms/step - loss: 2.9269 - accuracy: 0.1017\n",
      "Epoch 8/100\n",
      "40/40 [==============================] - 0s 4ms/step - loss: 2.9194 - accuracy: 0.1078\n",
      "Epoch 9/100\n",
      "40/40 [==============================] - 0s 4ms/step - loss: 2.9076 - accuracy: 0.0964\n",
      "Epoch 10/100\n",
      "40/40 [==============================] - 0s 4ms/step - loss: 2.9038 - accuracy: 0.0945\n",
      "Epoch 11/100\n",
      "40/40 [==============================] - 0s 4ms/step - loss: 2.8843 - accuracy: 0.0975\n",
      "Epoch 12/100\n",
      "40/40 [==============================] - 0s 4ms/step - loss: 2.8758 - accuracy: 0.1036\n",
      "Epoch 13/100\n",
      "40/40 [==============================] - 0s 4ms/step - loss: 2.8775 - accuracy: 0.0973\n",
      "Epoch 14/100\n",
      "40/40 [==============================] - 0s 4ms/step - loss: 2.8666 - accuracy: 0.0963\n",
      "Epoch 15/100\n",
      "40/40 [==============================] - 0s 4ms/step - loss: 2.8583 - accuracy: 0.0958\n",
      "Epoch 16/100\n",
      "40/40 [==============================] - 0s 4ms/step - loss: 2.8566 - accuracy: 0.0846\n",
      "Epoch 17/100\n",
      "40/40 [==============================] - 0s 4ms/step - loss: 2.8497 - accuracy: 0.0992\n",
      "Epoch 18/100\n",
      "40/40 [==============================] - 0s 4ms/step - loss: 2.8408 - accuracy: 0.0949\n",
      "Epoch 19/100\n",
      "40/40 [==============================] - 0s 4ms/step - loss: 2.8276 - accuracy: 0.1080\n",
      "Epoch 20/100\n",
      "40/40 [==============================] - 0s 4ms/step - loss: 2.8125 - accuracy: 0.1075\n",
      "Epoch 21/100\n",
      "40/40 [==============================] - 0s 4ms/step - loss: 2.8199 - accuracy: 0.1059\n",
      "Epoch 22/100\n",
      "40/40 [==============================] - 0s 4ms/step - loss: 2.8311 - accuracy: 0.0932\n",
      "Epoch 23/100\n",
      "40/40 [==============================] - 0s 4ms/step - loss: 2.8219 - accuracy: 0.0994\n",
      "Epoch 24/100\n",
      "40/40 [==============================] - 0s 4ms/step - loss: 2.8370 - accuracy: 0.0854\n",
      "Epoch 25/100\n",
      "40/40 [==============================] - 0s 4ms/step - loss: 2.8263 - accuracy: 0.0961\n",
      "Epoch 26/100\n",
      "40/40 [==============================] - 0s 4ms/step - loss: 2.8200 - accuracy: 0.0974\n",
      "Epoch 27/100\n",
      "40/40 [==============================] - 0s 4ms/step - loss: 2.8122 - accuracy: 0.1094\n",
      "Epoch 28/100\n",
      "40/40 [==============================] - 0s 4ms/step - loss: 2.8150 - accuracy: 0.1008\n",
      "Epoch 29/100\n",
      "40/40 [==============================] - 0s 4ms/step - loss: 2.8128 - accuracy: 0.1194\n",
      "Epoch 30/100\n",
      "40/40 [==============================] - 0s 4ms/step - loss: 2.8118 - accuracy: 0.1127\n",
      "Epoch 31/100\n",
      "40/40 [==============================] - 0s 5ms/step - loss: 2.8011 - accuracy: 0.0954\n",
      "Epoch 32/100\n",
      "40/40 [==============================] - 0s 4ms/step - loss: 2.7853 - accuracy: 0.0977\n",
      "Epoch 33/100\n",
      "40/40 [==============================] - 0s 5ms/step - loss: 2.8203 - accuracy: 0.1058\n",
      "Epoch 34/100\n",
      "40/40 [==============================] - 0s 4ms/step - loss: 2.8334 - accuracy: 0.0920\n",
      "Epoch 35/100\n",
      "40/40 [==============================] - 0s 4ms/step - loss: 2.8111 - accuracy: 0.1086\n",
      "Epoch 36/100\n",
      "40/40 [==============================] - 0s 4ms/step - loss: 2.8226 - accuracy: 0.0993\n",
      "Epoch 37/100\n",
      "40/40 [==============================] - 0s 4ms/step - loss: 2.8099 - accuracy: 0.1026\n",
      "Epoch 38/100\n",
      "40/40 [==============================] - 0s 5ms/step - loss: 2.7924 - accuracy: 0.1066\n",
      "Epoch 39/100\n",
      "40/40 [==============================] - 0s 5ms/step - loss: 2.8042 - accuracy: 0.1005\n",
      "Epoch 40/100\n",
      "40/40 [==============================] - 0s 4ms/step - loss: 2.8078 - accuracy: 0.1005\n",
      "Epoch 41/100\n",
      "40/40 [==============================] - 0s 5ms/step - loss: 2.7943 - accuracy: 0.1122\n",
      "Epoch 42/100\n",
      "40/40 [==============================] - 0s 4ms/step - loss: 2.7973 - accuracy: 0.1037\n",
      "Epoch 43/100\n",
      "40/40 [==============================] - 0s 4ms/step - loss: 2.8120 - accuracy: 0.1084\n",
      "Epoch 44/100\n",
      "40/40 [==============================] - 0s 4ms/step - loss: 2.8014 - accuracy: 0.1084\n",
      "Epoch 45/100\n",
      "40/40 [==============================] - 0s 4ms/step - loss: 2.8129 - accuracy: 0.0999\n",
      "Epoch 46/100\n",
      "40/40 [==============================] - 0s 4ms/step - loss: 2.7892 - accuracy: 0.1177\n",
      "Epoch 47/100\n",
      "40/40 [==============================] - 0s 4ms/step - loss: 2.7939 - accuracy: 0.1142\n",
      "Epoch 48/100\n",
      "40/40 [==============================] - 0s 4ms/step - loss: 2.8024 - accuracy: 0.1042\n",
      "Epoch 49/100\n",
      "40/40 [==============================] - 0s 4ms/step - loss: 2.7751 - accuracy: 0.1223\n",
      "Epoch 50/100\n",
      "40/40 [==============================] - 0s 4ms/step - loss: 2.7951 - accuracy: 0.1080\n",
      "Epoch 51/100\n",
      "40/40 [==============================] - 0s 4ms/step - loss: 2.7949 - accuracy: 0.1062\n",
      "Epoch 52/100\n",
      "40/40 [==============================] - 0s 4ms/step - loss: 2.7867 - accuracy: 0.1042\n",
      "Epoch 53/100\n",
      "40/40 [==============================] - 0s 4ms/step - loss: 2.8030 - accuracy: 0.1094\n",
      "Epoch 54/100\n",
      "40/40 [==============================] - 0s 4ms/step - loss: 2.7970 - accuracy: 0.1186\n",
      "Epoch 55/100\n",
      "40/40 [==============================] - 0s 4ms/step - loss: 2.7666 - accuracy: 0.1204\n",
      "Epoch 56/100\n",
      "40/40 [==============================] - 0s 4ms/step - loss: 2.7946 - accuracy: 0.1108\n",
      "Epoch 57/100\n",
      "40/40 [==============================] - 0s 4ms/step - loss: 2.7905 - accuracy: 0.1094\n",
      "Epoch 58/100\n",
      "40/40 [==============================] - 0s 4ms/step - loss: 2.8048 - accuracy: 0.1039\n",
      "Epoch 59/100\n",
      "40/40 [==============================] - 0s 4ms/step - loss: 2.8142 - accuracy: 0.0981\n",
      "Epoch 60/100\n",
      "40/40 [==============================] - 0s 4ms/step - loss: 2.7821 - accuracy: 0.1117\n",
      "Epoch 61/100\n",
      "40/40 [==============================] - 0s 4ms/step - loss: 2.7862 - accuracy: 0.1117\n",
      "Epoch 62/100\n",
      "40/40 [==============================] - 0s 4ms/step - loss: 2.8174 - accuracy: 0.1045\n",
      "Epoch 63/100\n",
      "40/40 [==============================] - 0s 4ms/step - loss: 2.7882 - accuracy: 0.0982\n",
      "Epoch 64/100\n",
      "40/40 [==============================] - 0s 4ms/step - loss: 2.7734 - accuracy: 0.1183\n",
      "Epoch 65/100\n",
      "40/40 [==============================] - 0s 4ms/step - loss: 2.7856 - accuracy: 0.1171\n",
      "Epoch 66/100\n",
      "40/40 [==============================] - 0s 4ms/step - loss: 2.7832 - accuracy: 0.1296\n",
      "Epoch 67/100\n",
      "40/40 [==============================] - 0s 4ms/step - loss: 2.7845 - accuracy: 0.1256\n",
      "Epoch 68/100\n",
      "40/40 [==============================] - 0s 4ms/step - loss: 2.7848 - accuracy: 0.1356\n",
      "Epoch 69/100\n",
      "40/40 [==============================] - 0s 4ms/step - loss: 2.7760 - accuracy: 0.1173\n",
      "Epoch 70/100\n",
      "40/40 [==============================] - 0s 4ms/step - loss: 2.7883 - accuracy: 0.1213\n",
      "Epoch 71/100\n",
      "40/40 [==============================] - 0s 4ms/step - loss: 2.7869 - accuracy: 0.1143\n",
      "Epoch 72/100\n",
      "40/40 [==============================] - 0s 4ms/step - loss: 2.7917 - accuracy: 0.1059\n",
      "Epoch 73/100\n",
      "40/40 [==============================] - 0s 4ms/step - loss: 2.7835 - accuracy: 0.1219\n",
      "Epoch 74/100\n",
      "40/40 [==============================] - 0s 4ms/step - loss: 2.7685 - accuracy: 0.1184\n",
      "Epoch 75/100\n",
      "40/40 [==============================] - 0s 4ms/step - loss: 2.7869 - accuracy: 0.1140\n",
      "Epoch 76/100\n",
      "40/40 [==============================] - 0s 4ms/step - loss: 2.8017 - accuracy: 0.1124\n",
      "Epoch 77/100\n",
      "40/40 [==============================] - 0s 4ms/step - loss: 2.7798 - accuracy: 0.1285\n",
      "Epoch 78/100\n",
      "40/40 [==============================] - 0s 4ms/step - loss: 2.7800 - accuracy: 0.1034\n",
      "Epoch 79/100\n",
      "40/40 [==============================] - 0s 4ms/step - loss: 2.7737 - accuracy: 0.1186\n",
      "Epoch 80/100\n",
      "40/40 [==============================] - 0s 4ms/step - loss: 2.7954 - accuracy: 0.1208\n",
      "Epoch 81/100\n",
      "40/40 [==============================] - 0s 4ms/step - loss: 2.7969 - accuracy: 0.1104\n",
      "Epoch 82/100\n",
      "40/40 [==============================] - 0s 4ms/step - loss: 2.7918 - accuracy: 0.0963\n",
      "Epoch 83/100\n"
     ]
    },
    {
     "name": "stdout",
     "output_type": "stream",
     "text": [
      "40/40 [==============================] - 0s 4ms/step - loss: 2.7719 - accuracy: 0.1223\n",
      "Epoch 84/100\n",
      "40/40 [==============================] - 0s 4ms/step - loss: 2.8000 - accuracy: 0.1139\n",
      "Epoch 85/100\n",
      "40/40 [==============================] - 0s 4ms/step - loss: 2.7710 - accuracy: 0.1196\n",
      "Epoch 86/100\n",
      "40/40 [==============================] - 0s 4ms/step - loss: 2.7720 - accuracy: 0.1077\n",
      "Epoch 87/100\n",
      "40/40 [==============================] - 0s 4ms/step - loss: 2.7797 - accuracy: 0.1101\n",
      "Epoch 88/100\n",
      "40/40 [==============================] - 0s 4ms/step - loss: 2.7844 - accuracy: 0.1313\n",
      "Epoch 89/100\n",
      "40/40 [==============================] - 0s 4ms/step - loss: 2.7823 - accuracy: 0.1231\n",
      "Epoch 90/100\n",
      "40/40 [==============================] - 0s 4ms/step - loss: 2.7881 - accuracy: 0.1135\n",
      "Epoch 91/100\n",
      "40/40 [==============================] - 0s 4ms/step - loss: 2.7803 - accuracy: 0.0971\n",
      "Epoch 92/100\n",
      "40/40 [==============================] - 0s 4ms/step - loss: 2.7743 - accuracy: 0.1059\n",
      "Epoch 93/100\n",
      "40/40 [==============================] - 0s 4ms/step - loss: 2.7872 - accuracy: 0.1036\n",
      "Epoch 94/100\n",
      "40/40 [==============================] - 0s 4ms/step - loss: 2.7787 - accuracy: 0.1128\n",
      "Epoch 95/100\n",
      "40/40 [==============================] - 0s 4ms/step - loss: 2.7568 - accuracy: 0.1123\n",
      "Epoch 96/100\n",
      "40/40 [==============================] - 0s 4ms/step - loss: 2.7734 - accuracy: 0.1223\n",
      "Epoch 97/100\n",
      "40/40 [==============================] - 0s 4ms/step - loss: 2.8051 - accuracy: 0.1077\n",
      "Epoch 98/100\n",
      "40/40 [==============================] - 0s 4ms/step - loss: 2.7910 - accuracy: 0.1122\n",
      "Epoch 99/100\n",
      "40/40 [==============================] - 0s 4ms/step - loss: 2.7910 - accuracy: 0.1109\n",
      "Epoch 100/100\n",
      "40/40 [==============================] - 0s 4ms/step - loss: 2.7795 - accuracy: 0.1084\n"
     ]
    }
   ],
   "source": [
    "# Optimizing the network weights\n",
    "X_train, X_test, Y_train, Y_test = train_test_split(X_v2, Y, test_size=0.2, random_state=0)\n",
    "\n",
    "history = model.fit(x=X_train, \n",
    "                    y=Y_train, \n",
    "                    batch_size=10, \n",
    "                    epochs=100)"
   ]
  },
  {
   "cell_type": "code",
   "execution_count": 62,
   "metadata": {},
   "outputs": [
    {
     "name": "stdout",
     "output_type": "stream",
     "text": [
      " Train accuracy: 0.10877862572669983\n",
      " Test accuracy: 0.047979798167943954\n"
     ]
    }
   ],
   "source": [
    "# evaluate the model\n",
    "train_acc = model.evaluate(X_train, Y_train, verbose=0)#batch_size=BATCH_SIZE,\n",
    "print(' Train accuracy:', train_acc[1])\n",
    "test_acc = model.evaluate(X_test, Y_test, verbose=0)\n",
    "print(' Test accuracy:', test_acc[1])"
   ]
  },
  {
   "cell_type": "markdown",
   "metadata": {},
   "source": [
    "## Retrieving letter representation (not important by now) "
   ]
  },
  {
   "cell_type": "code",
   "execution_count": 17,
   "metadata": {},
   "outputs": [],
   "source": [
    "anti_sequence = []\n",
    "for i in range(len(data)):\n",
    "        anti_sequence.append([ k for k,v in mapping.items() if (v - X[i][0]).any() == 0 ])"
   ]
  },
  {
   "cell_type": "code",
   "execution_count": 18,
   "metadata": {},
   "outputs": [],
   "source": [
    "# initial data\n",
    "anti_contact = []\n",
    "for i in range(len(data)):\n",
    "    for j in range(len(Y[0])): \n",
    "        anti_contact.append([ k for k,v in mapping.items() if (v - Y[i][j]).any() == 0 ])\n",
    "        \n",
    "anti_contact = [anti_contact[i:i + 4] for i in range(0, len(anti_contact), 4)]"
   ]
  },
  {
   "cell_type": "code",
   "execution_count": 21,
   "metadata": {},
   "outputs": [],
   "source": [
    "# predicted data \n",
    "anti_predict = []\n",
    "for i in range(len(predicts)):\n",
    "    for j in range(len(predicts[0])): \n",
    "        anti_predict.append([ k for k,v in mapping.items() if (v - one_hot_predicts[i][j]).any() == 0 ])\n",
    "        \n",
    "anti_predict = [anti_predict[i:i + 4] for i in range(0, len(anti_predict), 4)]"
   ]
  },
  {
   "cell_type": "code",
   "execution_count": 22,
   "metadata": {},
   "outputs": [],
   "source": [
    "# processing data correctly \n",
    "anti_predict_well = []\n",
    "for i in range(len(anti_predict)): \n",
    "    anti_predict_well.append(list(itertools.chain.from_iterable(anti_predict[i])))"
   ]
  },
  {
   "cell_type": "markdown",
   "metadata": {},
   "source": [
    "# Many-to-many (3-2)\n",
    "\n",
    "## Processing data for model "
   ]
  },
  {
   "cell_type": "code",
   "execution_count": 5,
   "metadata": {},
   "outputs": [
    {
     "data": {
      "text/html": [
       "<div>\n",
       "<style scoped>\n",
       "    .dataframe tbody tr th:only-of-type {\n",
       "        vertical-align: middle;\n",
       "    }\n",
       "\n",
       "    .dataframe tbody tr th {\n",
       "        vertical-align: top;\n",
       "    }\n",
       "\n",
       "    .dataframe thead th {\n",
       "        text-align: right;\n",
       "    }\n",
       "</style>\n",
       "<table border=\"1\" class=\"dataframe\">\n",
       "  <thead>\n",
       "    <tr style=\"text-align: right;\">\n",
       "      <th></th>\n",
       "      <th>sequence</th>\n",
       "      <th>contact</th>\n",
       "    </tr>\n",
       "  </thead>\n",
       "  <tbody>\n",
       "    <tr>\n",
       "      <th>0</th>\n",
       "      <td>T</td>\n",
       "      <td>HL</td>\n",
       "    </tr>\n",
       "    <tr>\n",
       "      <th>1</th>\n",
       "      <td>S</td>\n",
       "      <td>EY</td>\n",
       "    </tr>\n",
       "    <tr>\n",
       "      <th>2</th>\n",
       "      <td>S</td>\n",
       "      <td>EK</td>\n",
       "    </tr>\n",
       "    <tr>\n",
       "      <th>3</th>\n",
       "      <td>K</td>\n",
       "      <td>LQ</td>\n",
       "    </tr>\n",
       "    <tr>\n",
       "      <th>4</th>\n",
       "      <td>F</td>\n",
       "      <td>PS</td>\n",
       "    </tr>\n",
       "    <tr>\n",
       "      <th>...</th>\n",
       "      <td>...</td>\n",
       "      <td>...</td>\n",
       "    </tr>\n",
       "    <tr>\n",
       "      <th>487</th>\n",
       "      <td>P</td>\n",
       "      <td>IT</td>\n",
       "    </tr>\n",
       "    <tr>\n",
       "      <th>488</th>\n",
       "      <td>L</td>\n",
       "      <td>IP</td>\n",
       "    </tr>\n",
       "    <tr>\n",
       "      <th>489</th>\n",
       "      <td>V</td>\n",
       "      <td>HS</td>\n",
       "    </tr>\n",
       "    <tr>\n",
       "      <th>490</th>\n",
       "      <td>N</td>\n",
       "      <td>PT</td>\n",
       "    </tr>\n",
       "    <tr>\n",
       "      <th>491</th>\n",
       "      <td>P</td>\n",
       "      <td>WN</td>\n",
       "    </tr>\n",
       "  </tbody>\n",
       "</table>\n",
       "<p>492 rows × 2 columns</p>\n",
       "</div>"
      ],
      "text/plain": [
       "    sequence contact\n",
       "0          T      HL\n",
       "1          S      EY\n",
       "2          S      EK\n",
       "3          K      LQ\n",
       "4          F      PS\n",
       "..       ...     ...\n",
       "487        P      IT\n",
       "488        L      IP\n",
       "489        V      HS\n",
       "490        N      PT\n",
       "491        P      WN\n",
       "\n",
       "[492 rows x 2 columns]"
      ]
     },
     "execution_count": 5,
     "metadata": {},
     "output_type": "execute_result"
    }
   ],
   "source": [
    "# for this model we need to reload the dataframe from 4th box, but only \n",
    "# considering 2 contacts because the 'sequence' contacts are as 'input'\n",
    "\n",
    "data = pd.DataFrame({'sequence': sequence, \n",
    "                    'contact1': contact_1,\n",
    "                    'contact2': contact_2,\n",
    "                    'contact3': contact_3,\n",
    "                    'contact4': contact_4})\n",
    "\n",
    "# I need 2 columns, one for the aminoacid of the sequence and the other for the contacts\n",
    "data['contact'] = data['contact1'].map(str) + data['contact2'].map(str) \n",
    "data = data[['sequence','contact']]\n",
    "\n",
    "data"
   ]
  },
  {
   "cell_type": "code",
   "execution_count": 7,
   "metadata": {},
   "outputs": [],
   "source": [
    "new_column = []\n",
    "for i in range(len(data)):\n",
    "    if i == 0:\n",
    "        new_column.append(data.loc[i][0] + data.loc[i+1][0])\n",
    "    elif i == (len(data)-1):\n",
    "        new_column.append(data.loc[i-1][0] + data.loc[i][0])\n",
    "    else:\n",
    "        new_column.append(data.loc[i-1][0] + data.loc[i][0] + data.loc[i+1][0])"
   ]
  },
  {
   "cell_type": "code",
   "execution_count": 8,
   "metadata": {},
   "outputs": [
    {
     "data": {
      "text/html": [
       "<div>\n",
       "<style scoped>\n",
       "    .dataframe tbody tr th:only-of-type {\n",
       "        vertical-align: middle;\n",
       "    }\n",
       "\n",
       "    .dataframe tbody tr th {\n",
       "        vertical-align: top;\n",
       "    }\n",
       "\n",
       "    .dataframe thead th {\n",
       "        text-align: right;\n",
       "    }\n",
       "</style>\n",
       "<table border=\"1\" class=\"dataframe\">\n",
       "  <thead>\n",
       "    <tr style=\"text-align: right;\">\n",
       "      <th></th>\n",
       "      <th>sequence_neighbors</th>\n",
       "      <th>contact</th>\n",
       "    </tr>\n",
       "  </thead>\n",
       "  <tbody>\n",
       "    <tr>\n",
       "      <th>0</th>\n",
       "      <td>TS</td>\n",
       "      <td>HL</td>\n",
       "    </tr>\n",
       "    <tr>\n",
       "      <th>1</th>\n",
       "      <td>TSS</td>\n",
       "      <td>EY</td>\n",
       "    </tr>\n",
       "    <tr>\n",
       "      <th>2</th>\n",
       "      <td>SSK</td>\n",
       "      <td>EK</td>\n",
       "    </tr>\n",
       "    <tr>\n",
       "      <th>3</th>\n",
       "      <td>SKF</td>\n",
       "      <td>LQ</td>\n",
       "    </tr>\n",
       "    <tr>\n",
       "      <th>4</th>\n",
       "      <td>KFN</td>\n",
       "      <td>PS</td>\n",
       "    </tr>\n",
       "    <tr>\n",
       "      <th>...</th>\n",
       "      <td>...</td>\n",
       "      <td>...</td>\n",
       "    </tr>\n",
       "    <tr>\n",
       "      <th>487</th>\n",
       "      <td>GPL</td>\n",
       "      <td>IT</td>\n",
       "    </tr>\n",
       "    <tr>\n",
       "      <th>488</th>\n",
       "      <td>PLV</td>\n",
       "      <td>IP</td>\n",
       "    </tr>\n",
       "    <tr>\n",
       "      <th>489</th>\n",
       "      <td>LVN</td>\n",
       "      <td>HS</td>\n",
       "    </tr>\n",
       "    <tr>\n",
       "      <th>490</th>\n",
       "      <td>VNP</td>\n",
       "      <td>PT</td>\n",
       "    </tr>\n",
       "    <tr>\n",
       "      <th>491</th>\n",
       "      <td>NP</td>\n",
       "      <td>WN</td>\n",
       "    </tr>\n",
       "  </tbody>\n",
       "</table>\n",
       "<p>492 rows × 2 columns</p>\n",
       "</div>"
      ],
      "text/plain": [
       "    sequence_neighbors contact\n",
       "0                   TS      HL\n",
       "1                  TSS      EY\n",
       "2                  SSK      EK\n",
       "3                  SKF      LQ\n",
       "4                  KFN      PS\n",
       "..                 ...     ...\n",
       "487                GPL      IT\n",
       "488                PLV      IP\n",
       "489                LVN      HS\n",
       "490                VNP      PT\n",
       "491                 NP      WN\n",
       "\n",
       "[492 rows x 2 columns]"
      ]
     },
     "execution_count": 8,
     "metadata": {},
     "output_type": "execute_result"
    }
   ],
   "source": [
    "data['sequence_neighbors'] = new_column\n",
    "data = data[['sequence_neighbors','contact']]\n",
    "data"
   ]
  },
  {
   "cell_type": "code",
   "execution_count": 9,
   "metadata": {},
   "outputs": [],
   "source": [
    "# I need to manipulate this dataframe to convert to one-hot encoding \n",
    "data['seq_convertions'] = data['sequence_neighbors'].map(list)\n",
    "data['contact_convertions'] = data['contact'].map(list)"
   ]
  },
  {
   "cell_type": "code",
   "execution_count": 10,
   "metadata": {},
   "outputs": [],
   "source": [
    "# again lets transform the 'convertions' columns to one-hot\n",
    "hot_seq = []\n",
    "for i in range(len(data)): \n",
    "    hot_seq.append(one_hot_transform(data['seq_convertions'][:][i]))"
   ]
  },
  {
   "cell_type": "code",
   "execution_count": 11,
   "metadata": {},
   "outputs": [],
   "source": [
    "hot_contact = []\n",
    "for i in range(len(data)): \n",
    "    hot_contact.append(one_hot_transform(data['contact_convertions'][:][i]))"
   ]
  },
  {
   "cell_type": "markdown",
   "metadata": {},
   "source": [
    "## Model \n",
    "\n",
    "There will be a problem because the first and last rows have two aminoacids, we can add an 'empty' aminoacid representing the beginning and the end of the sequence. It could be a vector of zeros and lenght 20.   "
   ]
  },
  {
   "cell_type": "code",
   "execution_count": 12,
   "metadata": {},
   "outputs": [],
   "source": [
    "hot_seq[0] = np.vstack((np.zeros((1,20)), hot_seq[0]))\n",
    "hot_seq[len(data)-1] = np.vstack((hot_seq[len(data)-1], np.zeros((1,20))))"
   ]
  },
  {
   "cell_type": "code",
   "execution_count": 13,
   "metadata": {},
   "outputs": [],
   "source": [
    "X = np.asarray(hot_seq, dtype=np.float32)\n",
    "Y = np.asarray(hot_contact, dtype=np.float32)"
   ]
  },
  {
   "cell_type": "code",
   "execution_count": 14,
   "metadata": {},
   "outputs": [
    {
     "name": "stdout",
     "output_type": "stream",
     "text": [
      "(492, 3, 20)\n",
      "(492, 2, 20)\n"
     ]
    }
   ],
   "source": [
    "print(X.shape)\n",
    "print(Y.shape)"
   ]
  },
  {
   "cell_type": "code",
   "execution_count": 15,
   "metadata": {},
   "outputs": [],
   "source": [
    "# LSTM \n",
    "\n",
    "hidden_nodes_l1 = 10\n",
    "hidden_nodes_l2 = 5\n",
    "\n",
    "model = Sequential()\n",
    "model.add(LSTM(hidden_nodes_l1, batch_input_shape=(None, 3, 20)))#, stateful=True))\n",
    "model.add(RepeatVector(2))\n",
    "model.add(LSTM(hidden_nodes_l2, return_sequences=True)) \n",
    "#model.add(Bidirectional(LSTM(hidden_nodes_l2, return_sequences=True))) \n",
    "model.add(TimeDistributed(Dense(20, activation='softmax')))\n",
    "model.compile(loss=tf.keras.losses.CategoricalCrossentropy(from_logits=False), optimizer='adam', metrics=['accuracy'])"
   ]
  },
  {
   "cell_type": "code",
   "execution_count": 16,
   "metadata": {},
   "outputs": [
    {
     "name": "stdout",
     "output_type": "stream",
     "text": [
      "(None, 3, 20)\n",
      "(None, 2, 20)\n",
      "Model: \"sequential\"\n",
      "_________________________________________________________________\n",
      "Layer (type)                 Output Shape              Param #   \n",
      "=================================================================\n",
      "lstm (LSTM)                  (None, 10)                1240      \n",
      "_________________________________________________________________\n",
      "repeat_vector (RepeatVector) (None, 2, 10)             0         \n",
      "_________________________________________________________________\n",
      "lstm_1 (LSTM)                (None, 2, 5)              320       \n",
      "_________________________________________________________________\n",
      "time_distributed (TimeDistri (None, 2, 20)             120       \n",
      "=================================================================\n",
      "Total params: 1,680\n",
      "Trainable params: 1,680\n",
      "Non-trainable params: 0\n",
      "_________________________________________________________________\n"
     ]
    }
   ],
   "source": [
    "print(model.input_shape)\n",
    "print(model.output_shape)\n",
    "model.summary()"
   ]
  },
  {
   "cell_type": "code",
   "execution_count": 17,
   "metadata": {},
   "outputs": [
    {
     "name": "stdout",
     "output_type": "stream",
     "text": [
      "Epoch 1/10\n",
      "393/393 [==============================] - 7s 7ms/step - loss: 2.9810 - accuracy: 0.0926 - val_loss: 2.9466 - val_accuracy: 0.0505\n",
      "Epoch 2/10\n",
      "393/393 [==============================] - 2s 4ms/step - loss: 2.9062 - accuracy: 0.0607 - val_loss: 2.8975 - val_accuracy: 0.0707\n",
      "Epoch 3/10\n",
      "393/393 [==============================] - 2s 4ms/step - loss: 2.8507 - accuracy: 0.0920 - val_loss: 2.8845 - val_accuracy: 0.0707\n",
      "Epoch 4/10\n",
      "393/393 [==============================] - 2s 4ms/step - loss: 2.8638 - accuracy: 0.0726 - val_loss: 2.8802 - val_accuracy: 0.0707\n",
      "Epoch 5/10\n",
      "393/393 [==============================] - 2s 4ms/step - loss: 2.8611 - accuracy: 0.0756 - val_loss: 2.8793 - val_accuracy: 0.0707\n",
      "Epoch 6/10\n",
      "393/393 [==============================] - 2s 4ms/step - loss: 2.8273 - accuracy: 0.1046 - val_loss: 2.8800 - val_accuracy: 0.0758\n",
      "Epoch 7/10\n",
      "393/393 [==============================] - 2s 4ms/step - loss: 2.8176 - accuracy: 0.1015 - val_loss: 2.8802 - val_accuracy: 0.0909\n",
      "Epoch 8/10\n",
      "393/393 [==============================] - 2s 4ms/step - loss: 2.8121 - accuracy: 0.1050 - val_loss: 2.8827 - val_accuracy: 0.0707\n",
      "Epoch 9/10\n",
      "393/393 [==============================] - 2s 5ms/step - loss: 2.8256 - accuracy: 0.1045 - val_loss: 2.8818 - val_accuracy: 0.0707\n",
      "Epoch 10/10\n",
      "393/393 [==============================] - 2s 4ms/step - loss: 2.8003 - accuracy: 0.1192 - val_loss: 2.8870 - val_accuracy: 0.0606\n"
     ]
    }
   ],
   "source": [
    "# Optimizing the network weights\n",
    "X_train, X_test, Y_train, Y_test = train_test_split(X, Y, test_size=0.2, random_state=0)\n",
    "\n",
    "history = model.fit(X_train, Y_train, \n",
    "                    batch_size=1, \n",
    "                    epochs=10, \n",
    "                    verbose=1,\n",
    "                    validation_data=(X_test, Y_test))"
   ]
  },
  {
   "cell_type": "code",
   "execution_count": 18,
   "metadata": {},
   "outputs": [],
   "source": [
    "predicts = model.predict(X_test) "
   ]
  },
  {
   "cell_type": "code",
   "execution_count": 22,
   "metadata": {},
   "outputs": [
    {
     "data": {
      "text/plain": [
       "(99, 2, 20)"
      ]
     },
     "execution_count": 22,
     "metadata": {},
     "output_type": "execute_result"
    }
   ],
   "source": [
    "predicts.shape"
   ]
  },
  {
   "cell_type": "code",
   "execution_count": 40,
   "metadata": {},
   "outputs": [],
   "source": [
    "# convertion to one_hot format \n",
    "one_hot_predicts = [] \n",
    "\n",
    "for i in range(len(predicts)):\n",
    "    for j in range(len(predicts[0])): \n",
    "        \n",
    "        one_hot_predicts.append(np.asarray(tf.one_hot(tf.argmax(predicts[i][j]), depth = 20)).reshape(1,20))\n",
    "\n",
    "one_hot_predicts = [one_hot_predicts[i:i + 2] for i in range(0, len(one_hot_predicts), 2)]"
   ]
  },
  {
   "cell_type": "code",
   "execution_count": 46,
   "metadata": {},
   "outputs": [],
   "source": [
    "# and if you want to retrieve the exact format: \n",
    "print(np.squeeze(np.asarray(one_hot_predicts), axis=(2,)).shape)\n",
    "print(type(np.squeeze(np.asarray(one_hot_predicts), axis=(2,))))\n",
    "np.squeeze(np.asarray(one_hot_predicts), axis=(2,))"
   ]
  },
  {
   "cell_type": "code",
   "execution_count": 44,
   "metadata": {},
   "outputs": [
    {
     "name": "stdout",
     "output_type": "stream",
     "text": [
      " Train accuracy: 0.1450381726026535\n",
      " Test accuracy: 0.11616161465644836\n"
     ]
    }
   ],
   "source": [
    "# evaluate the model (LSTM)\n",
    "train_acc = model.evaluate(X_train, Y_train, verbose=0)#batch_size=BATCH_SIZE,\n",
    "print(' Train accuracy:', train_acc[1])\n",
    "test_acc = model.evaluate(X_test, Y_test, verbose=0)\n",
    "print(' Test accuracy:', test_acc[1])"
   ]
  },
  {
   "cell_type": "code",
   "execution_count": 97,
   "metadata": {},
   "outputs": [
    {
     "name": "stdout",
     "output_type": "stream",
     "text": [
      " Train accuracy: 0.20610687136650085\n",
      " Test accuracy: 0.06060606241226196\n"
     ]
    }
   ],
   "source": [
    "# evaluate the model (BiLSTM)\n",
    "train_acc = model.evaluate(X_train, Y_train, verbose=0)#batch_size=BATCH_SIZE,\n",
    "print(' Train accuracy:', train_acc[1])\n",
    "test_acc = model.evaluate(X_test, Y_test, verbose=0)\n",
    "print(' Test accuracy:', test_acc[1])"
   ]
  }
 ],
 "metadata": {
  "kernelspec": {
   "display_name": "Python 3",
   "language": "python",
   "name": "python3"
  },
  "language_info": {
   "codemirror_mode": {
    "name": "ipython",
    "version": 3
   },
   "file_extension": ".py",
   "mimetype": "text/x-python",
   "name": "python",
   "nbconvert_exporter": "python",
   "pygments_lexer": "ipython3",
   "version": "3.8.5"
  },
  "toc": {
   "base_numbering": 1,
   "nav_menu": {},
   "number_sections": true,
   "sideBar": true,
   "skip_h1_title": false,
   "title_cell": "Table of Contents",
   "title_sidebar": "Contents",
   "toc_cell": false,
   "toc_position": {
    "height": "calc(100% - 180px)",
    "left": "10px",
    "top": "150px",
    "width": "199.8px"
   },
   "toc_section_display": true,
   "toc_window_display": true
  }
 },
 "nbformat": 4,
 "nbformat_minor": 4
}

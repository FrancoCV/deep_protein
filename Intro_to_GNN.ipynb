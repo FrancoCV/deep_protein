{
  "nbformat": 4,
  "nbformat_minor": 0,
  "metadata": {
    "colab": {
      "name": "Intro to GNN.ipynb",
      "provenance": [],
      "collapsed_sections": []
    },
    "kernelspec": {
      "name": "python3",
      "display_name": "Python 3"
    },
    "language_info": {
      "name": "python"
    }
  },
  "cells": [
    {
      "cell_type": "code",
      "metadata": {
        "colab": {
          "base_uri": "https://localhost:8080/",
          "height": 1000
        },
        "id": "KkNmzF-dgR3A",
        "outputId": "0739428d-1ce8-4d84-e855-741f92b17cb4"
      },
      "source": [
        "# https://www.youtube.com/watch?v=8owQBFAHw7E\n",
        "# loading libraries \n",
        "!pip install spektral==0.6.1"
      ],
      "execution_count": 5,
      "outputs": [
        {
          "output_type": "stream",
          "text": [
            "Collecting spektral==0.6.1\n",
            "  Downloading spektral-0.6.1-py3-none-any.whl (95 kB)\n",
            "\u001b[?25l\r\u001b[K     |███▍                            | 10 kB 16.7 MB/s eta 0:00:01\r\u001b[K     |██████▉                         | 20 kB 21.0 MB/s eta 0:00:01\r\u001b[K     |██████████▎                     | 30 kB 12.2 MB/s eta 0:00:01\r\u001b[K     |█████████████▊                  | 40 kB 9.4 MB/s eta 0:00:01\r\u001b[K     |█████████████████▏              | 51 kB 4.9 MB/s eta 0:00:01\r\u001b[K     |████████████████████▋           | 61 kB 5.2 MB/s eta 0:00:01\r\u001b[K     |████████████████████████        | 71 kB 5.7 MB/s eta 0:00:01\r\u001b[K     |███████████████████████████▌    | 81 kB 6.4 MB/s eta 0:00:01\r\u001b[K     |███████████████████████████████ | 92 kB 6.7 MB/s eta 0:00:01\r\u001b[K     |████████████████████████████████| 95 kB 2.3 MB/s \n",
            "\u001b[?25hRequirement already satisfied: lxml in /usr/local/lib/python3.7/dist-packages (from spektral==0.6.1) (4.2.6)\n",
            "Requirement already satisfied: networkx in /usr/local/lib/python3.7/dist-packages (from spektral==0.6.1) (2.5.1)\n",
            "Requirement already satisfied: tensorflow>=2.1.0 in /usr/local/lib/python3.7/dist-packages (from spektral==0.6.1) (2.5.0)\n",
            "Requirement already satisfied: scikit-learn in /usr/local/lib/python3.7/dist-packages (from spektral==0.6.1) (0.22.2.post1)\n",
            "Requirement already satisfied: requests in /usr/local/lib/python3.7/dist-packages (from spektral==0.6.1) (2.23.0)\n",
            "Requirement already satisfied: numpy in /usr/local/lib/python3.7/dist-packages (from spektral==0.6.1) (1.19.5)\n",
            "Requirement already satisfied: pandas in /usr/local/lib/python3.7/dist-packages (from spektral==0.6.1) (1.1.5)\n",
            "Requirement already satisfied: scipy in /usr/local/lib/python3.7/dist-packages (from spektral==0.6.1) (1.4.1)\n",
            "Requirement already satisfied: joblib in /usr/local/lib/python3.7/dist-packages (from spektral==0.6.1) (1.0.1)\n",
            "Requirement already satisfied: gast==0.4.0 in /usr/local/lib/python3.7/dist-packages (from tensorflow>=2.1.0->spektral==0.6.1) (0.4.0)\n",
            "Requirement already satisfied: flatbuffers~=1.12.0 in /usr/local/lib/python3.7/dist-packages (from tensorflow>=2.1.0->spektral==0.6.1) (1.12)\n",
            "Requirement already satisfied: absl-py~=0.10 in /usr/local/lib/python3.7/dist-packages (from tensorflow>=2.1.0->spektral==0.6.1) (0.12.0)\n",
            "Requirement already satisfied: wheel~=0.35 in /usr/local/lib/python3.7/dist-packages (from tensorflow>=2.1.0->spektral==0.6.1) (0.36.2)\n",
            "Requirement already satisfied: wrapt~=1.12.1 in /usr/local/lib/python3.7/dist-packages (from tensorflow>=2.1.0->spektral==0.6.1) (1.12.1)\n",
            "Requirement already satisfied: tensorboard~=2.5 in /usr/local/lib/python3.7/dist-packages (from tensorflow>=2.1.0->spektral==0.6.1) (2.5.0)\n",
            "Requirement already satisfied: google-pasta~=0.2 in /usr/local/lib/python3.7/dist-packages (from tensorflow>=2.1.0->spektral==0.6.1) (0.2.0)\n",
            "Requirement already satisfied: keras-nightly~=2.5.0.dev in /usr/local/lib/python3.7/dist-packages (from tensorflow>=2.1.0->spektral==0.6.1) (2.5.0.dev2021032900)\n",
            "Requirement already satisfied: opt-einsum~=3.3.0 in /usr/local/lib/python3.7/dist-packages (from tensorflow>=2.1.0->spektral==0.6.1) (3.3.0)\n",
            "Requirement already satisfied: astunparse~=1.6.3 in /usr/local/lib/python3.7/dist-packages (from tensorflow>=2.1.0->spektral==0.6.1) (1.6.3)\n",
            "Requirement already satisfied: tensorflow-estimator<2.6.0,>=2.5.0rc0 in /usr/local/lib/python3.7/dist-packages (from tensorflow>=2.1.0->spektral==0.6.1) (2.5.0)\n",
            "Requirement already satisfied: protobuf>=3.9.2 in /usr/local/lib/python3.7/dist-packages (from tensorflow>=2.1.0->spektral==0.6.1) (3.17.3)\n",
            "Requirement already satisfied: keras-preprocessing~=1.1.2 in /usr/local/lib/python3.7/dist-packages (from tensorflow>=2.1.0->spektral==0.6.1) (1.1.2)\n",
            "Requirement already satisfied: six~=1.15.0 in /usr/local/lib/python3.7/dist-packages (from tensorflow>=2.1.0->spektral==0.6.1) (1.15.0)\n",
            "Requirement already satisfied: termcolor~=1.1.0 in /usr/local/lib/python3.7/dist-packages (from tensorflow>=2.1.0->spektral==0.6.1) (1.1.0)\n",
            "Requirement already satisfied: typing-extensions~=3.7.4 in /usr/local/lib/python3.7/dist-packages (from tensorflow>=2.1.0->spektral==0.6.1) (3.7.4.3)\n",
            "Requirement already satisfied: grpcio~=1.34.0 in /usr/local/lib/python3.7/dist-packages (from tensorflow>=2.1.0->spektral==0.6.1) (1.34.1)\n",
            "Requirement already satisfied: h5py~=3.1.0 in /usr/local/lib/python3.7/dist-packages (from tensorflow>=2.1.0->spektral==0.6.1) (3.1.0)\n",
            "Requirement already satisfied: cached-property in /usr/local/lib/python3.7/dist-packages (from h5py~=3.1.0->tensorflow>=2.1.0->spektral==0.6.1) (1.5.2)\n",
            "Requirement already satisfied: google-auth-oauthlib<0.5,>=0.4.1 in /usr/local/lib/python3.7/dist-packages (from tensorboard~=2.5->tensorflow>=2.1.0->spektral==0.6.1) (0.4.4)\n",
            "Requirement already satisfied: tensorboard-plugin-wit>=1.6.0 in /usr/local/lib/python3.7/dist-packages (from tensorboard~=2.5->tensorflow>=2.1.0->spektral==0.6.1) (1.8.0)\n",
            "Requirement already satisfied: markdown>=2.6.8 in /usr/local/lib/python3.7/dist-packages (from tensorboard~=2.5->tensorflow>=2.1.0->spektral==0.6.1) (3.3.4)\n",
            "Requirement already satisfied: setuptools>=41.0.0 in /usr/local/lib/python3.7/dist-packages (from tensorboard~=2.5->tensorflow>=2.1.0->spektral==0.6.1) (57.2.0)\n",
            "Requirement already satisfied: werkzeug>=0.11.15 in /usr/local/lib/python3.7/dist-packages (from tensorboard~=2.5->tensorflow>=2.1.0->spektral==0.6.1) (1.0.1)\n",
            "Requirement already satisfied: tensorboard-data-server<0.7.0,>=0.6.0 in /usr/local/lib/python3.7/dist-packages (from tensorboard~=2.5->tensorflow>=2.1.0->spektral==0.6.1) (0.6.1)\n",
            "Requirement already satisfied: google-auth<2,>=1.6.3 in /usr/local/lib/python3.7/dist-packages (from tensorboard~=2.5->tensorflow>=2.1.0->spektral==0.6.1) (1.32.1)\n",
            "Requirement already satisfied: rsa<5,>=3.1.4 in /usr/local/lib/python3.7/dist-packages (from google-auth<2,>=1.6.3->tensorboard~=2.5->tensorflow>=2.1.0->spektral==0.6.1) (4.7.2)\n",
            "Requirement already satisfied: cachetools<5.0,>=2.0.0 in /usr/local/lib/python3.7/dist-packages (from google-auth<2,>=1.6.3->tensorboard~=2.5->tensorflow>=2.1.0->spektral==0.6.1) (4.2.2)\n",
            "Requirement already satisfied: pyasn1-modules>=0.2.1 in /usr/local/lib/python3.7/dist-packages (from google-auth<2,>=1.6.3->tensorboard~=2.5->tensorflow>=2.1.0->spektral==0.6.1) (0.2.8)\n",
            "Requirement already satisfied: requests-oauthlib>=0.7.0 in /usr/local/lib/python3.7/dist-packages (from google-auth-oauthlib<0.5,>=0.4.1->tensorboard~=2.5->tensorflow>=2.1.0->spektral==0.6.1) (1.3.0)\n",
            "Requirement already satisfied: importlib-metadata in /usr/local/lib/python3.7/dist-packages (from markdown>=2.6.8->tensorboard~=2.5->tensorflow>=2.1.0->spektral==0.6.1) (4.6.1)\n",
            "Requirement already satisfied: pyasn1<0.5.0,>=0.4.6 in /usr/local/lib/python3.7/dist-packages (from pyasn1-modules>=0.2.1->google-auth<2,>=1.6.3->tensorboard~=2.5->tensorflow>=2.1.0->spektral==0.6.1) (0.4.8)\n",
            "Requirement already satisfied: certifi>=2017.4.17 in /usr/local/lib/python3.7/dist-packages (from requests->spektral==0.6.1) (2021.5.30)\n",
            "Requirement already satisfied: idna<3,>=2.5 in /usr/local/lib/python3.7/dist-packages (from requests->spektral==0.6.1) (2.10)\n",
            "Requirement already satisfied: chardet<4,>=3.0.2 in /usr/local/lib/python3.7/dist-packages (from requests->spektral==0.6.1) (3.0.4)\n",
            "Requirement already satisfied: urllib3!=1.25.0,!=1.25.1,<1.26,>=1.21.1 in /usr/local/lib/python3.7/dist-packages (from requests->spektral==0.6.1) (1.24.3)\n",
            "Requirement already satisfied: oauthlib>=3.0.0 in /usr/local/lib/python3.7/dist-packages (from requests-oauthlib>=0.7.0->google-auth-oauthlib<0.5,>=0.4.1->tensorboard~=2.5->tensorflow>=2.1.0->spektral==0.6.1) (3.1.1)\n",
            "Requirement already satisfied: zipp>=0.5 in /usr/local/lib/python3.7/dist-packages (from importlib-metadata->markdown>=2.6.8->tensorboard~=2.5->tensorflow>=2.1.0->spektral==0.6.1) (3.5.0)\n",
            "Requirement already satisfied: decorator<5,>=4.3 in /usr/local/lib/python3.7/dist-packages (from networkx->spektral==0.6.1) (4.4.2)\n",
            "Requirement already satisfied: python-dateutil>=2.7.3 in /usr/local/lib/python3.7/dist-packages (from pandas->spektral==0.6.1) (2.8.1)\n",
            "Requirement already satisfied: pytz>=2017.2 in /usr/local/lib/python3.7/dist-packages (from pandas->spektral==0.6.1) (2018.9)\n",
            "Installing collected packages: spektral\n",
            "  Attempting uninstall: spektral\n",
            "    Found existing installation: spektral 1.0.7\n",
            "    Uninstalling spektral-1.0.7:\n",
            "      Successfully uninstalled spektral-1.0.7\n",
            "Successfully installed spektral-0.6.1\n"
          ],
          "name": "stdout"
        },
        {
          "output_type": "display_data",
          "data": {
            "application/vnd.colab-display-data+json": {
              "pip_warning": {
                "packages": [
                  "spektral"
                ]
              }
            }
          },
          "metadata": {
            "tags": []
          }
        }
      ]
    },
    {
      "cell_type": "code",
      "metadata": {
        "id": "U7jYUKIEga1M"
      },
      "source": [
        "import numpy as np\n",
        "import tensorflow as tf\n",
        "import spektral # to easly preprocess graphs and similar things "
      ],
      "execution_count": 1,
      "outputs": []
    },
    {
      "cell_type": "code",
      "metadata": {
        "colab": {
          "base_uri": "https://localhost:8080/"
        },
        "id": "nFt674mbgmba",
        "outputId": "6425c189-68a3-450a-e4ec-75514c6b5d89"
      },
      "source": [
        "adj, features, labels, train_mask, val_mask, test_mask = spektral.datasets.citation.load_data(dataset_name = 'cora')"
      ],
      "execution_count": 2,
      "outputs": [
        {
          "output_type": "stream",
          "text": [
            "Downloading cora from https://github.com/tkipf/gcn/raw/master/gcn/data/\n",
            "Loading cora dataset\n",
            "Pre-processing node features\n"
          ],
          "name": "stdout"
        }
      ]
    },
    {
      "cell_type": "code",
      "metadata": {
        "id": "awj3HcfjhSbA"
      },
      "source": [
        "features = features.todense()\n",
        "adj = adj.todense() + np.eye(adj.shape[0])\n",
        "features = features.astype('float32')\n",
        "adj = adj.astype('float32')"
      ],
      "execution_count": 3,
      "outputs": []
    },
    {
      "cell_type": "code",
      "metadata": {
        "colab": {
          "base_uri": "https://localhost:8080/"
        },
        "id": "9RJHnEc2iboF",
        "outputId": "f79552a7-7cc2-4a95-c001-56e95a19d23d"
      },
      "source": [
        "print(features.shape)\n",
        "print(adj.shape)\n",
        "print(labels.shape)\n",
        "\n",
        "print(np.sum(train_mask))\n",
        "print(np.sum(val_mask))\n",
        "print(np.sum(test_mask))\n"
      ],
      "execution_count": 4,
      "outputs": [
        {
          "output_type": "stream",
          "text": [
            "(2708, 1433)\n",
            "(2708, 2708)\n",
            "(2708, 7)\n",
            "140\n",
            "500\n",
            "1000\n"
          ],
          "name": "stdout"
        }
      ]
    },
    {
      "cell_type": "code",
      "metadata": {
        "id": "pnx-QPARi32I"
      },
      "source": [
        "# function that rerutn the cross entropy over the nodes of the graph\n",
        "\n",
        "def masked_softmax_cross_entropy(logits, labels, mask):\n",
        "  loss = tf.nn.softmax_cross_entropy_with_logits(logits=logits, labels = labels)\n",
        "  mask = tf.cast(mask, dtype=tf.float32)\n",
        "  mask /= tf.reduce_mean(mask)\n",
        "  loss *= mask\n",
        "  return tf.reduce_mean(loss)\n",
        "\n",
        "\n",
        "# computing some accuracy metric, we only want this over val and test nodes  \n",
        "\n",
        "def masked_accuracy(logits, labels, mask): \n",
        "  correct_prediction = tf.equal(tf.argmax(logits,1), tf.argmax(labels,1)) # this compare argmax of the logits with argmax of the labels \n",
        "  accuracy_all = tf.cast(correct_prediction, tf.float32)\n",
        "  mask = tf.cast(mask, dtype=tf.float32) # we need to cast the mask properly\n",
        "  mask /= tf.reduce_mean(mask)\n",
        "  accuracy_all *= mask\n",
        "  return tf.reduce_mean(accuracy_all)"
      ],
      "execution_count": 5,
      "outputs": []
    },
    {
      "cell_type": "code",
      "metadata": {
        "id": "tcnuzkk8lKGT"
      },
      "source": [
        "# now is time to define a very simple but GENERAL Graph NN layer \n",
        "# it will have a featyres matrix, and adjency matrix, a transformation that will be applied to every node and an activation function\n",
        "\n",
        "def gnn(fts, adj, transform, activation): \n",
        "  seq_fts = transform(fts) # we transform each of the nodes individually\n",
        "  ret_fts = tf.matmul(adj, seq_fts) # we multiply by an appropiate adjency matrix to combine the neighbors \n",
        "  return activation(ret_fts)"
      ],
      "execution_count": 6,
      "outputs": []
    },
    {
      "cell_type": "code",
      "metadata": {
        "id": "WmJ_pcpLmjtm"
      },
      "source": [
        "# defining a simple two layer gnn to clasify the cora dataset\n",
        "# we can choose how many units our NN will compute foe each node, so how many dimensions of features  \n",
        "# and a learning rate \n",
        "\n",
        "def train_cora(fts, adj, gnn_fn, units, epochs, lr):\n",
        "\n",
        "  lyr_1 = tf.keras.layers.Dense(units)\n",
        "  lyr_2 = tf.keras.layers.Dense(7) # compute the classification of each node, we need 7 outputs for 7 classes\n",
        "\n",
        "  # now we can define the gnn that is used to solve this problem: \n",
        "  def cora_gnn(fts, adj): \n",
        "    hidden = gnn_fn(fts, adj, lyr_1, tf.nn.relu)\n",
        "    logits = gnn_fn(hidden, adj, lyr_2, tf.identity) # it will project each node to 7 outputs \n",
        "    return logits \n",
        "\n",
        "  optimizer = tf.keras.optimizers.Adam(learning_rate=lr)\n",
        "\n",
        "  best_accuracy = 0.0\n",
        "\n",
        "  for ep in range(epochs + 1): \n",
        "    with tf.GradientTape() as t:\n",
        "      logits = cora_gnn(fts, adj)\n",
        "      loss = masked_softmax_cross_entropy(logits, labels, train_mask)\n",
        "\n",
        "    variables = t.watched_variables()\n",
        "    grads = t.gradient(loss, variables)\n",
        "    optimizer.apply_gradients(zip(grads,variables))\n",
        "\n",
        "    logits = cora_gnn(fts, adj)\n",
        "    val_accuracy = masked_accuracy(logits, labels, val_mask)\n",
        "    test_accuracy = masked_accuracy(logits, labels, test_mask)\n",
        "\n",
        "    if val_accuracy > best_accuracy: \n",
        "     best_accuracy = val_accuracy\n",
        "     print('Epoch', ep, '| TRaining loss:', loss.numpy(), \n",
        "           '| Val accuracy:', val_accuracy.numpy(),'| Test accuracy:', test_accuracy.numpy())"
      ],
      "execution_count": 11,
      "outputs": []
    },
    {
      "cell_type": "code",
      "metadata": {
        "colab": {
          "base_uri": "https://localhost:8080/"
        },
        "id": "DtPl0kC0rxCm",
        "outputId": "981733b1-c104-49d4-893a-378ede0f0b2b"
      },
      "source": [
        "train_cora(features, adj, gnn, 32, 200, 0.01)"
      ],
      "execution_count": 12,
      "outputs": [
        {
          "output_type": "stream",
          "text": [
            "Epoch 0 | TRaining loss: 1.9815553 | Val accuracy: 0.072 | Test accuracy: 0.09199999\n",
            "Epoch 1 | TRaining loss: 2.0027316 | Val accuracy: 0.21599999 | Test accuracy: 0.22\n",
            "Epoch 2 | TRaining loss: 1.746207 | Val accuracy: 0.484 | Test accuracy: 0.47300002\n",
            "Epoch 3 | TRaining loss: 1.5606091 | Val accuracy: 0.58599997 | Test accuracy: 0.57600003\n",
            "Epoch 7 | TRaining loss: 1.1307148 | Val accuracy: 0.6 | Test accuracy: 0.59900004\n",
            "Epoch 8 | TRaining loss: 1.061319 | Val accuracy: 0.624 | Test accuracy: 0.633\n",
            "Epoch 9 | TRaining loss: 0.98419034 | Val accuracy: 0.67599994 | Test accuracy: 0.677\n",
            "Epoch 10 | TRaining loss: 0.9090838 | Val accuracy: 0.69 | Test accuracy: 0.70600003\n",
            "Epoch 11 | TRaining loss: 0.84551406 | Val accuracy: 0.71 | Test accuracy: 0.719\n",
            "Epoch 12 | TRaining loss: 0.77292615 | Val accuracy: 0.716 | Test accuracy: 0.73599994\n",
            "Epoch 13 | TRaining loss: 0.71065366 | Val accuracy: 0.73800004 | Test accuracy: 0.747\n",
            "Epoch 14 | TRaining loss: 0.64909166 | Val accuracy: 0.74999994 | Test accuracy: 0.75799996\n",
            "Epoch 25 | TRaining loss: 0.21958862 | Val accuracy: 0.75 | Test accuracy: 0.731\n",
            "Epoch 30 | TRaining loss: 0.13180554 | Val accuracy: 0.75600004 | Test accuracy: 0.756\n",
            "Epoch 31 | TRaining loss: 0.11883114 | Val accuracy: 0.758 | Test accuracy: 0.75399995\n",
            "Epoch 33 | TRaining loss: 0.096390516 | Val accuracy: 0.76600003 | Test accuracy: 0.755\n",
            "Epoch 35 | TRaining loss: 0.078520656 | Val accuracy: 0.76800007 | Test accuracy: 0.752\n",
            "Epoch 36 | TRaining loss: 0.07098374 | Val accuracy: 0.77000004 | Test accuracy: 0.751\n"
          ],
          "name": "stdout"
        }
      ]
    },
    {
      "cell_type": "code",
      "metadata": {
        "colab": {
          "base_uri": "https://localhost:8080/"
        },
        "id": "O9qqj-hjsFTe",
        "outputId": "86f2ce88-d591-4390-88d2-8ffe49f0afd1"
      },
      "source": [
        "# we change the adj matrix, this is worse because we dont explote the graph information \n",
        "train_cora(features, tf.eye(adj.shape[0]), gnn, 32, 200, 0.01)"
      ],
      "execution_count": 13,
      "outputs": [
        {
          "output_type": "stream",
          "text": [
            "Epoch 0 | TRaining loss: 1.9458084 | Val accuracy: 0.188 | Test accuracy: 0.18699999\n",
            "Epoch 1 | TRaining loss: 1.9314784 | Val accuracy: 0.30199996 | Test accuracy: 0.28899997\n",
            "Epoch 2 | TRaining loss: 1.9097278 | Val accuracy: 0.37199998 | Test accuracy: 0.36900002\n",
            "Epoch 3 | TRaining loss: 1.8827087 | Val accuracy: 0.41799998 | Test accuracy: 0.38099998\n",
            "Epoch 6 | TRaining loss: 1.78357 | Val accuracy: 0.44 | Test accuracy: 0.415\n",
            "Epoch 7 | TRaining loss: 1.7443411 | Val accuracy: 0.45 | Test accuracy: 0.429\n",
            "Epoch 8 | TRaining loss: 1.7020384 | Val accuracy: 0.45399997 | Test accuracy: 0.439\n",
            "Epoch 9 | TRaining loss: 1.6569511 | Val accuracy: 0.45799997 | Test accuracy: 0.45999998\n",
            "Epoch 10 | TRaining loss: 1.6093223 | Val accuracy: 0.47599998 | Test accuracy: 0.47100002\n",
            "Epoch 11 | TRaining loss: 1.5593297 | Val accuracy: 0.482 | Test accuracy: 0.468\n",
            "Epoch 12 | TRaining loss: 1.5070736 | Val accuracy: 0.48599997 | Test accuracy: 0.47300002\n",
            "Epoch 13 | TRaining loss: 1.4526657 | Val accuracy: 0.48799998 | Test accuracy: 0.47700003\n",
            "Epoch 14 | TRaining loss: 1.3962065 | Val accuracy: 0.49 | Test accuracy: 0.47500002\n",
            "Epoch 15 | TRaining loss: 1.3379269 | Val accuracy: 0.49199998 | Test accuracy: 0.474\n",
            "Epoch 16 | TRaining loss: 1.2781559 | Val accuracy: 0.494 | Test accuracy: 0.469\n",
            "Epoch 18 | TRaining loss: 1.1552218 | Val accuracy: 0.50399995 | Test accuracy: 0.482\n",
            "Epoch 19 | TRaining loss: 1.0926182 | Val accuracy: 0.50600004 | Test accuracy: 0.48899996\n",
            "Epoch 21 | TRaining loss: 0.96686673 | Val accuracy: 0.50799996 | Test accuracy: 0.49899998\n",
            "Epoch 22 | TRaining loss: 0.90450025 | Val accuracy: 0.516 | Test accuracy: 0.50200003\n",
            "Epoch 23 | TRaining loss: 0.84291905 | Val accuracy: 0.52 | Test accuracy: 0.508\n",
            "Epoch 24 | TRaining loss: 0.78249574 | Val accuracy: 0.52199996 | Test accuracy: 0.51199996\n",
            "Epoch 25 | TRaining loss: 0.72362524 | Val accuracy: 0.52599996 | Test accuracy: 0.508\n",
            "Epoch 26 | TRaining loss: 0.6666406 | Val accuracy: 0.532 | Test accuracy: 0.508\n",
            "Epoch 27 | TRaining loss: 0.6118349 | Val accuracy: 0.534 | Test accuracy: 0.509\n",
            "Epoch 28 | TRaining loss: 0.5594887 | Val accuracy: 0.53800005 | Test accuracy: 0.509\n"
          ],
          "name": "stdout"
        }
      ]
    },
    {
      "cell_type": "code",
      "metadata": {
        "colab": {
          "base_uri": "https://localhost:8080/"
        },
        "id": "ld-P11fDs67S",
        "outputId": "44702973-d369-487c-f541-78867bc4cf3c"
      },
      "source": [
        "# now we add the degree matrix, in order to demonstrate that is a good idea to normalize tha adjency matrix\n",
        "deg = tf.reduce_sum(adj, axis=-1)\n",
        "train_cora(features, adj / deg, gnn, 32, 200, 0.01)"
      ],
      "execution_count": 14,
      "outputs": [
        {
          "output_type": "stream",
          "text": [
            "Epoch 0 | TRaining loss: 1.9445227 | Val accuracy: 0.19599998 | Test accuracy: 0.21499999\n",
            "Epoch 3 | TRaining loss: 1.8905356 | Val accuracy: 0.20799999 | Test accuracy: 0.24599999\n",
            "Epoch 4 | TRaining loss: 1.8678628 | Val accuracy: 0.21599999 | Test accuracy: 0.25100002\n",
            "Epoch 6 | TRaining loss: 1.8191857 | Val accuracy: 0.22199999 | Test accuracy: 0.265\n",
            "Epoch 7 | TRaining loss: 1.7926778 | Val accuracy: 0.24 | Test accuracy: 0.28\n",
            "Epoch 8 | TRaining loss: 1.7642461 | Val accuracy: 0.27 | Test accuracy: 0.304\n",
            "Epoch 9 | TRaining loss: 1.7335058 | Val accuracy: 0.31 | Test accuracy: 0.34\n",
            "Epoch 10 | TRaining loss: 1.7006091 | Val accuracy: 0.346 | Test accuracy: 0.36400002\n",
            "Epoch 11 | TRaining loss: 1.6664574 | Val accuracy: 0.38799998 | Test accuracy: 0.39699998\n",
            "Epoch 12 | TRaining loss: 1.6310173 | Val accuracy: 0.408 | Test accuracy: 0.42399997\n",
            "Epoch 13 | TRaining loss: 1.5939981 | Val accuracy: 0.45599997 | Test accuracy: 0.45799997\n",
            "Epoch 14 | TRaining loss: 1.5553218 | Val accuracy: 0.48 | Test accuracy: 0.49199998\n",
            "Epoch 15 | TRaining loss: 1.5150759 | Val accuracy: 0.50200003 | Test accuracy: 0.527\n",
            "Epoch 16 | TRaining loss: 1.4734766 | Val accuracy: 0.546 | Test accuracy: 0.552\n",
            "Epoch 17 | TRaining loss: 1.4306527 | Val accuracy: 0.55799997 | Test accuracy: 0.584\n",
            "Epoch 18 | TRaining loss: 1.3867416 | Val accuracy: 0.588 | Test accuracy: 0.61300004\n",
            "Epoch 19 | TRaining loss: 1.3418331 | Val accuracy: 0.62 | Test accuracy: 0.64\n",
            "Epoch 20 | TRaining loss: 1.2960936 | Val accuracy: 0.644 | Test accuracy: 0.659\n",
            "Epoch 21 | TRaining loss: 1.249658 | Val accuracy: 0.666 | Test accuracy: 0.682\n",
            "Epoch 22 | TRaining loss: 1.2027462 | Val accuracy: 0.682 | Test accuracy: 0.695\n",
            "Epoch 23 | TRaining loss: 1.1556113 | Val accuracy: 0.69200003 | Test accuracy: 0.705\n",
            "Epoch 24 | TRaining loss: 1.1084042 | Val accuracy: 0.706 | Test accuracy: 0.725\n",
            "Epoch 25 | TRaining loss: 1.0612499 | Val accuracy: 0.716 | Test accuracy: 0.737\n",
            "Epoch 26 | TRaining loss: 1.014376 | Val accuracy: 0.722 | Test accuracy: 0.745\n",
            "Epoch 27 | TRaining loss: 0.96798784 | Val accuracy: 0.72999996 | Test accuracy: 0.75799996\n",
            "Epoch 28 | TRaining loss: 0.92223525 | Val accuracy: 0.73399997 | Test accuracy: 0.76299995\n",
            "Epoch 29 | TRaining loss: 0.8772943 | Val accuracy: 0.742 | Test accuracy: 0.76999986\n",
            "Epoch 30 | TRaining loss: 0.83333415 | Val accuracy: 0.75 | Test accuracy: 0.7759999\n",
            "Epoch 31 | TRaining loss: 0.7905073 | Val accuracy: 0.758 | Test accuracy: 0.7819999\n",
            "Epoch 32 | TRaining loss: 0.7489805 | Val accuracy: 0.76199996 | Test accuracy: 0.7849999\n",
            "Epoch 33 | TRaining loss: 0.70885015 | Val accuracy: 0.766 | Test accuracy: 0.7909998\n",
            "Epoch 34 | TRaining loss: 0.6701801 | Val accuracy: 0.76799995 | Test accuracy: 0.7969999\n",
            "Epoch 37 | TRaining loss: 0.56352705 | Val accuracy: 0.774 | Test accuracy: 0.7969999\n",
            "Epoch 38 | TRaining loss: 0.5312025 | Val accuracy: 0.782 | Test accuracy: 0.7999999\n",
            "Epoch 41 | TRaining loss: 0.44388554 | Val accuracy: 0.784 | Test accuracy: 0.79899985\n",
            "Epoch 43 | TRaining loss: 0.3934038 | Val accuracy: 0.7859999 | Test accuracy: 0.7959999\n"
          ],
          "name": "stdout"
        }
      ]
    },
    {
      "cell_type": "code",
      "metadata": {
        "colab": {
          "base_uri": "https://localhost:8080/"
        },
        "id": "fTwEm8E2tg8s",
        "outputId": "4f8a749f-4365-400d-89cf-9b38daaf91ea"
      },
      "source": [
        "# finally we are going to use another normalization, that multiply both sides of adj matrix\n",
        "\n",
        "norm_deg = tf.linalg.diag( 1.0 / tf.sqrt(deg))\n",
        "norm_adj = tf.matmul(norm_deg, tf.matmul(adj,norm_deg))\n",
        "\n",
        "train_cora(features, norm_adj, gnn, 32, 200, 0.01)"
      ],
      "execution_count": 15,
      "outputs": [
        {
          "output_type": "stream",
          "text": [
            "Epoch 0 | TRaining loss: 1.945597 | Val accuracy: 0.22799999 | Test accuracy: 0.247\n",
            "Epoch 1 | TRaining loss: 1.9315991 | Val accuracy: 0.248 | Test accuracy: 0.27499998\n",
            "Epoch 2 | TRaining loss: 1.9154929 | Val accuracy: 0.296 | Test accuracy: 0.314\n",
            "Epoch 3 | TRaining loss: 1.8963563 | Val accuracy: 0.328 | Test accuracy: 0.335\n",
            "Epoch 4 | TRaining loss: 1.8763411 | Val accuracy: 0.33799997 | Test accuracy: 0.347\n",
            "Epoch 5 | TRaining loss: 1.8544222 | Val accuracy: 0.362 | Test accuracy: 0.361\n",
            "Epoch 6 | TRaining loss: 1.8303219 | Val accuracy: 0.37199998 | Test accuracy: 0.38300002\n",
            "Epoch 7 | TRaining loss: 1.805059 | Val accuracy: 0.39399996 | Test accuracy: 0.39799997\n",
            "Epoch 8 | TRaining loss: 1.7780575 | Val accuracy: 0.41799995 | Test accuracy: 0.441\n",
            "Epoch 9 | TRaining loss: 1.7491691 | Val accuracy: 0.45599997 | Test accuracy: 0.49899998\n",
            "Epoch 10 | TRaining loss: 1.7188176 | Val accuracy: 0.52599996 | Test accuracy: 0.542\n",
            "Epoch 11 | TRaining loss: 1.686837 | Val accuracy: 0.576 | Test accuracy: 0.573\n",
            "Epoch 12 | TRaining loss: 1.653009 | Val accuracy: 0.618 | Test accuracy: 0.59900004\n",
            "Epoch 13 | TRaining loss: 1.6171658 | Val accuracy: 0.63 | Test accuracy: 0.629\n",
            "Epoch 14 | TRaining loss: 1.5792927 | Val accuracy: 0.656 | Test accuracy: 0.662\n",
            "Epoch 15 | TRaining loss: 1.5399449 | Val accuracy: 0.684 | Test accuracy: 0.681\n",
            "Epoch 16 | TRaining loss: 1.499257 | Val accuracy: 0.69 | Test accuracy: 0.696\n",
            "Epoch 17 | TRaining loss: 1.4571626 | Val accuracy: 0.696 | Test accuracy: 0.705\n",
            "Epoch 18 | TRaining loss: 1.4137324 | Val accuracy: 0.706 | Test accuracy: 0.715\n",
            "Epoch 19 | TRaining loss: 1.3690646 | Val accuracy: 0.714 | Test accuracy: 0.728\n",
            "Epoch 20 | TRaining loss: 1.3232583 | Val accuracy: 0.72199994 | Test accuracy: 0.73499995\n",
            "Epoch 21 | TRaining loss: 1.2764772 | Val accuracy: 0.73599994 | Test accuracy: 0.745\n",
            "Epoch 22 | TRaining loss: 1.2288977 | Val accuracy: 0.738 | Test accuracy: 0.74999994\n",
            "Epoch 23 | TRaining loss: 1.1806989 | Val accuracy: 0.746 | Test accuracy: 0.75499994\n",
            "Epoch 24 | TRaining loss: 1.132089 | Val accuracy: 0.752 | Test accuracy: 0.75999993\n",
            "Epoch 25 | TRaining loss: 1.0832942 | Val accuracy: 0.75399995 | Test accuracy: 0.76299983\n",
            "Epoch 26 | TRaining loss: 1.0345091 | Val accuracy: 0.762 | Test accuracy: 0.7729999\n",
            "Epoch 27 | TRaining loss: 0.98594314 | Val accuracy: 0.76400006 | Test accuracy: 0.7759999\n",
            "Epoch 28 | TRaining loss: 0.9378543 | Val accuracy: 0.77199996 | Test accuracy: 0.7759999\n",
            "Epoch 30 | TRaining loss: 0.84390515 | Val accuracy: 0.774 | Test accuracy: 0.7809999\n",
            "Epoch 31 | TRaining loss: 0.7984384 | Val accuracy: 0.77599996 | Test accuracy: 0.7849999\n",
            "Epoch 33 | TRaining loss: 0.71140605 | Val accuracy: 0.778 | Test accuracy: 0.78699994\n",
            "Epoch 39 | TRaining loss: 0.48930863 | Val accuracy: 0.782 | Test accuracy: 0.79599994\n",
            "Epoch 42 | TRaining loss: 0.40224418 | Val accuracy: 0.784 | Test accuracy: 0.79899985\n"
          ],
          "name": "stdout"
        }
      ]
    },
    {
      "cell_type": "code",
      "metadata": {
        "id": "JgtX40hpuV7T"
      },
      "source": [
        ""
      ],
      "execution_count": null,
      "outputs": []
    }
  ]
}